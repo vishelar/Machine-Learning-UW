{
 "cells": [
  {
   "cell_type": "markdown",
   "metadata": {
    "collapsed": true
   },
   "source": [
    "# Creating S Frame\n"
   ]
  },
  {
   "cell_type": "code",
   "execution_count": 5,
   "metadata": {
    "collapsed": true
   },
   "outputs": [],
   "source": [
    "import graphlab"
   ]
  },
  {
   "cell_type": "code",
   "execution_count": 9,
   "metadata": {
    "collapsed": false
   },
   "outputs": [
    {
     "name": "stdout",
     "output_type": "stream",
     "text": [
      "This non-commercial license of GraphLab Create is assigned to vishelar@gmail.com and will expire on April 15, 2017. For commercial licensing options, visit https://dato.com/buy/.\n"
     ]
    },
    {
     "name": "stderr",
     "output_type": "stream",
     "text": [
      "2016-04-15 14:32:29,007 [INFO] graphlab.cython.cy_server, 176: GraphLab Create v1.8.5 started. Logging: C:\\Users\\Shelar\\AppData\\Local\\Temp\\graphlab_server_1460710946.log.0\n"
     ]
    },
    {
     "data": {
      "text/html": [
       "<pre>Finished parsing file C:\\Users\\Shelar\\Machine_Learning_UW\\hw1_data.csv</pre>"
      ],
      "text/plain": [
       "Finished parsing file C:\\Users\\Shelar\\Machine_Learning_UW\\hw1_data.csv"
      ]
     },
     "metadata": {},
     "output_type": "display_data"
    },
    {
     "data": {
      "text/html": [
       "<pre>Parsing completed. Parsed 100 lines in 0.034981 secs.</pre>"
      ],
      "text/plain": [
       "Parsing completed. Parsed 100 lines in 0.034981 secs."
      ]
     },
     "metadata": {},
     "output_type": "display_data"
    },
    {
     "name": "stdout",
     "output_type": "stream",
     "text": [
      "------------------------------------------------------\n",
      "Inferred types from first line of file as \n",
      "column_type_hints=[long,long,float,long,long,long]\n",
      "If parsing fails due to incorrect types, you can correct\n",
      "the inferred type list above and pass it to read_csv in\n",
      "the column_type_hints argument\n",
      "------------------------------------------------------\n"
     ]
    },
    {
     "data": {
      "text/html": [
       "<pre>Finished parsing file C:\\Users\\Shelar\\Machine_Learning_UW\\hw1_data.csv</pre>"
      ],
      "text/plain": [
       "Finished parsing file C:\\Users\\Shelar\\Machine_Learning_UW\\hw1_data.csv"
      ]
     },
     "metadata": {},
     "output_type": "display_data"
    },
    {
     "data": {
      "text/html": [
       "<pre>Parsing completed. Parsed 153 lines in 0.018052 secs.</pre>"
      ],
      "text/plain": [
       "Parsing completed. Parsed 153 lines in 0.018052 secs."
      ]
     },
     "metadata": {},
     "output_type": "display_data"
    }
   ],
   "source": [
    "file = graphlab.SFrame('hw1_data.csv')"
   ]
  },
  {
   "cell_type": "code",
   "execution_count": 11,
   "metadata": {
    "collapsed": false
   },
   "outputs": [
    {
     "data": {
      "text/html": [
       "<div style=\"max-height:1000px;max-width:1500px;overflow:auto;\"><table frame=\"box\" rules=\"cols\">\n",
       "    <tr>\n",
       "        <th style=\"padding-left: 1em; padding-right: 1em; text-align: center\">Ozone</th>\n",
       "        <th style=\"padding-left: 1em; padding-right: 1em; text-align: center\">Solar.R</th>\n",
       "        <th style=\"padding-left: 1em; padding-right: 1em; text-align: center\">Wind</th>\n",
       "        <th style=\"padding-left: 1em; padding-right: 1em; text-align: center\">Temp</th>\n",
       "        <th style=\"padding-left: 1em; padding-right: 1em; text-align: center\">Month</th>\n",
       "        <th style=\"padding-left: 1em; padding-right: 1em; text-align: center\">Day</th>\n",
       "    </tr>\n",
       "    <tr>\n",
       "        <td style=\"padding-left: 1em; padding-right: 1em; text-align: center; vertical-align: top\">41</td>\n",
       "        <td style=\"padding-left: 1em; padding-right: 1em; text-align: center; vertical-align: top\">190</td>\n",
       "        <td style=\"padding-left: 1em; padding-right: 1em; text-align: center; vertical-align: top\">7.4</td>\n",
       "        <td style=\"padding-left: 1em; padding-right: 1em; text-align: center; vertical-align: top\">67</td>\n",
       "        <td style=\"padding-left: 1em; padding-right: 1em; text-align: center; vertical-align: top\">5</td>\n",
       "        <td style=\"padding-left: 1em; padding-right: 1em; text-align: center; vertical-align: top\">1</td>\n",
       "    </tr>\n",
       "    <tr>\n",
       "        <td style=\"padding-left: 1em; padding-right: 1em; text-align: center; vertical-align: top\">36</td>\n",
       "        <td style=\"padding-left: 1em; padding-right: 1em; text-align: center; vertical-align: top\">118</td>\n",
       "        <td style=\"padding-left: 1em; padding-right: 1em; text-align: center; vertical-align: top\">8.0</td>\n",
       "        <td style=\"padding-left: 1em; padding-right: 1em; text-align: center; vertical-align: top\">72</td>\n",
       "        <td style=\"padding-left: 1em; padding-right: 1em; text-align: center; vertical-align: top\">5</td>\n",
       "        <td style=\"padding-left: 1em; padding-right: 1em; text-align: center; vertical-align: top\">2</td>\n",
       "    </tr>\n",
       "    <tr>\n",
       "        <td style=\"padding-left: 1em; padding-right: 1em; text-align: center; vertical-align: top\">12</td>\n",
       "        <td style=\"padding-left: 1em; padding-right: 1em; text-align: center; vertical-align: top\">149</td>\n",
       "        <td style=\"padding-left: 1em; padding-right: 1em; text-align: center; vertical-align: top\">12.6</td>\n",
       "        <td style=\"padding-left: 1em; padding-right: 1em; text-align: center; vertical-align: top\">74</td>\n",
       "        <td style=\"padding-left: 1em; padding-right: 1em; text-align: center; vertical-align: top\">5</td>\n",
       "        <td style=\"padding-left: 1em; padding-right: 1em; text-align: center; vertical-align: top\">3</td>\n",
       "    </tr>\n",
       "    <tr>\n",
       "        <td style=\"padding-left: 1em; padding-right: 1em; text-align: center; vertical-align: top\">18</td>\n",
       "        <td style=\"padding-left: 1em; padding-right: 1em; text-align: center; vertical-align: top\">313</td>\n",
       "        <td style=\"padding-left: 1em; padding-right: 1em; text-align: center; vertical-align: top\">11.5</td>\n",
       "        <td style=\"padding-left: 1em; padding-right: 1em; text-align: center; vertical-align: top\">62</td>\n",
       "        <td style=\"padding-left: 1em; padding-right: 1em; text-align: center; vertical-align: top\">5</td>\n",
       "        <td style=\"padding-left: 1em; padding-right: 1em; text-align: center; vertical-align: top\">4</td>\n",
       "    </tr>\n",
       "    <tr>\n",
       "        <td style=\"padding-left: 1em; padding-right: 1em; text-align: center; vertical-align: top\">None</td>\n",
       "        <td style=\"padding-left: 1em; padding-right: 1em; text-align: center; vertical-align: top\">None</td>\n",
       "        <td style=\"padding-left: 1em; padding-right: 1em; text-align: center; vertical-align: top\">14.3</td>\n",
       "        <td style=\"padding-left: 1em; padding-right: 1em; text-align: center; vertical-align: top\">56</td>\n",
       "        <td style=\"padding-left: 1em; padding-right: 1em; text-align: center; vertical-align: top\">5</td>\n",
       "        <td style=\"padding-left: 1em; padding-right: 1em; text-align: center; vertical-align: top\">5</td>\n",
       "    </tr>\n",
       "    <tr>\n",
       "        <td style=\"padding-left: 1em; padding-right: 1em; text-align: center; vertical-align: top\">28</td>\n",
       "        <td style=\"padding-left: 1em; padding-right: 1em; text-align: center; vertical-align: top\">None</td>\n",
       "        <td style=\"padding-left: 1em; padding-right: 1em; text-align: center; vertical-align: top\">14.9</td>\n",
       "        <td style=\"padding-left: 1em; padding-right: 1em; text-align: center; vertical-align: top\">66</td>\n",
       "        <td style=\"padding-left: 1em; padding-right: 1em; text-align: center; vertical-align: top\">5</td>\n",
       "        <td style=\"padding-left: 1em; padding-right: 1em; text-align: center; vertical-align: top\">6</td>\n",
       "    </tr>\n",
       "    <tr>\n",
       "        <td style=\"padding-left: 1em; padding-right: 1em; text-align: center; vertical-align: top\">23</td>\n",
       "        <td style=\"padding-left: 1em; padding-right: 1em; text-align: center; vertical-align: top\">299</td>\n",
       "        <td style=\"padding-left: 1em; padding-right: 1em; text-align: center; vertical-align: top\">8.6</td>\n",
       "        <td style=\"padding-left: 1em; padding-right: 1em; text-align: center; vertical-align: top\">65</td>\n",
       "        <td style=\"padding-left: 1em; padding-right: 1em; text-align: center; vertical-align: top\">5</td>\n",
       "        <td style=\"padding-left: 1em; padding-right: 1em; text-align: center; vertical-align: top\">7</td>\n",
       "    </tr>\n",
       "    <tr>\n",
       "        <td style=\"padding-left: 1em; padding-right: 1em; text-align: center; vertical-align: top\">19</td>\n",
       "        <td style=\"padding-left: 1em; padding-right: 1em; text-align: center; vertical-align: top\">99</td>\n",
       "        <td style=\"padding-left: 1em; padding-right: 1em; text-align: center; vertical-align: top\">13.8</td>\n",
       "        <td style=\"padding-left: 1em; padding-right: 1em; text-align: center; vertical-align: top\">59</td>\n",
       "        <td style=\"padding-left: 1em; padding-right: 1em; text-align: center; vertical-align: top\">5</td>\n",
       "        <td style=\"padding-left: 1em; padding-right: 1em; text-align: center; vertical-align: top\">8</td>\n",
       "    </tr>\n",
       "    <tr>\n",
       "        <td style=\"padding-left: 1em; padding-right: 1em; text-align: center; vertical-align: top\">8</td>\n",
       "        <td style=\"padding-left: 1em; padding-right: 1em; text-align: center; vertical-align: top\">19</td>\n",
       "        <td style=\"padding-left: 1em; padding-right: 1em; text-align: center; vertical-align: top\">20.1</td>\n",
       "        <td style=\"padding-left: 1em; padding-right: 1em; text-align: center; vertical-align: top\">61</td>\n",
       "        <td style=\"padding-left: 1em; padding-right: 1em; text-align: center; vertical-align: top\">5</td>\n",
       "        <td style=\"padding-left: 1em; padding-right: 1em; text-align: center; vertical-align: top\">9</td>\n",
       "    </tr>\n",
       "    <tr>\n",
       "        <td style=\"padding-left: 1em; padding-right: 1em; text-align: center; vertical-align: top\">None</td>\n",
       "        <td style=\"padding-left: 1em; padding-right: 1em; text-align: center; vertical-align: top\">194</td>\n",
       "        <td style=\"padding-left: 1em; padding-right: 1em; text-align: center; vertical-align: top\">8.6</td>\n",
       "        <td style=\"padding-left: 1em; padding-right: 1em; text-align: center; vertical-align: top\">69</td>\n",
       "        <td style=\"padding-left: 1em; padding-right: 1em; text-align: center; vertical-align: top\">5</td>\n",
       "        <td style=\"padding-left: 1em; padding-right: 1em; text-align: center; vertical-align: top\">10</td>\n",
       "    </tr>\n",
       "</table>\n",
       "[153 rows x 6 columns]<br/>Note: Only the head of the SFrame is printed.<br/>You can use print_rows(num_rows=m, num_columns=n) to print more rows and columns.\n",
       "</div>"
      ],
      "text/plain": [
       "Columns:\n",
       "\tOzone\tint\n",
       "\tSolar.R\tint\n",
       "\tWind\tfloat\n",
       "\tTemp\tint\n",
       "\tMonth\tint\n",
       "\tDay\tint\n",
       "\n",
       "Rows: 153\n",
       "\n",
       "Data:\n",
       "+-------+---------+------+------+-------+-----+\n",
       "| Ozone | Solar.R | Wind | Temp | Month | Day |\n",
       "+-------+---------+------+------+-------+-----+\n",
       "|   41  |   190   | 7.4  |  67  |   5   |  1  |\n",
       "|   36  |   118   | 8.0  |  72  |   5   |  2  |\n",
       "|   12  |   149   | 12.6 |  74  |   5   |  3  |\n",
       "|   18  |   313   | 11.5 |  62  |   5   |  4  |\n",
       "|  None |   None  | 14.3 |  56  |   5   |  5  |\n",
       "|   28  |   None  | 14.9 |  66  |   5   |  6  |\n",
       "|   23  |   299   | 8.6  |  65  |   5   |  7  |\n",
       "|   19  |    99   | 13.8 |  59  |   5   |  8  |\n",
       "|   8   |    19   | 20.1 |  61  |   5   |  9  |\n",
       "|  None |   194   | 8.6  |  69  |   5   |  10 |\n",
       "+-------+---------+------+------+-------+-----+\n",
       "[153 rows x 6 columns]\n",
       "Note: Only the head of the SFrame is printed.\n",
       "You can use print_rows(num_rows=m, num_columns=n) to print more rows and columns."
      ]
     },
     "execution_count": 11,
     "metadata": {},
     "output_type": "execute_result"
    }
   ],
   "source": [
    "file"
   ]
  },
  {
   "cell_type": "code",
   "execution_count": 12,
   "metadata": {
    "collapsed": false
   },
   "outputs": [
    {
     "name": "stdout",
     "output_type": "stream",
     "text": [
      "+-------+-----+\n",
      "| Ozone | ... |\n",
      "+-------+-----+\n",
      "|   41  | ... |\n",
      "+-------+-----+\n",
      "[153 rows x 6 columns]\n",
      "\n"
     ]
    }
   ],
   "source": [
    "file.print_rows(num_rows=1, num_columns=1)"
   ]
  },
  {
   "cell_type": "code",
   "execution_count": 13,
   "metadata": {
    "collapsed": false
   },
   "outputs": [
    {
     "data": {
      "text/html": [
       "<div style=\"max-height:1000px;max-width:1500px;overflow:auto;\"><table frame=\"box\" rules=\"cols\">\n",
       "    <tr>\n",
       "        <th style=\"padding-left: 1em; padding-right: 1em; text-align: center\">Ozone</th>\n",
       "        <th style=\"padding-left: 1em; padding-right: 1em; text-align: center\">Solar.R</th>\n",
       "        <th style=\"padding-left: 1em; padding-right: 1em; text-align: center\">Wind</th>\n",
       "        <th style=\"padding-left: 1em; padding-right: 1em; text-align: center\">Temp</th>\n",
       "        <th style=\"padding-left: 1em; padding-right: 1em; text-align: center\">Month</th>\n",
       "        <th style=\"padding-left: 1em; padding-right: 1em; text-align: center\">Day</th>\n",
       "    </tr>\n",
       "    <tr>\n",
       "        <td style=\"padding-left: 1em; padding-right: 1em; text-align: center; vertical-align: top\">41</td>\n",
       "        <td style=\"padding-left: 1em; padding-right: 1em; text-align: center; vertical-align: top\">190</td>\n",
       "        <td style=\"padding-left: 1em; padding-right: 1em; text-align: center; vertical-align: top\">7.4</td>\n",
       "        <td style=\"padding-left: 1em; padding-right: 1em; text-align: center; vertical-align: top\">67</td>\n",
       "        <td style=\"padding-left: 1em; padding-right: 1em; text-align: center; vertical-align: top\">5</td>\n",
       "        <td style=\"padding-left: 1em; padding-right: 1em; text-align: center; vertical-align: top\">1</td>\n",
       "    </tr>\n",
       "    <tr>\n",
       "        <td style=\"padding-left: 1em; padding-right: 1em; text-align: center; vertical-align: top\">36</td>\n",
       "        <td style=\"padding-left: 1em; padding-right: 1em; text-align: center; vertical-align: top\">118</td>\n",
       "        <td style=\"padding-left: 1em; padding-right: 1em; text-align: center; vertical-align: top\">8.0</td>\n",
       "        <td style=\"padding-left: 1em; padding-right: 1em; text-align: center; vertical-align: top\">72</td>\n",
       "        <td style=\"padding-left: 1em; padding-right: 1em; text-align: center; vertical-align: top\">5</td>\n",
       "        <td style=\"padding-left: 1em; padding-right: 1em; text-align: center; vertical-align: top\">2</td>\n",
       "    </tr>\n",
       "    <tr>\n",
       "        <td style=\"padding-left: 1em; padding-right: 1em; text-align: center; vertical-align: top\">12</td>\n",
       "        <td style=\"padding-left: 1em; padding-right: 1em; text-align: center; vertical-align: top\">149</td>\n",
       "        <td style=\"padding-left: 1em; padding-right: 1em; text-align: center; vertical-align: top\">12.6</td>\n",
       "        <td style=\"padding-left: 1em; padding-right: 1em; text-align: center; vertical-align: top\">74</td>\n",
       "        <td style=\"padding-left: 1em; padding-right: 1em; text-align: center; vertical-align: top\">5</td>\n",
       "        <td style=\"padding-left: 1em; padding-right: 1em; text-align: center; vertical-align: top\">3</td>\n",
       "    </tr>\n",
       "    <tr>\n",
       "        <td style=\"padding-left: 1em; padding-right: 1em; text-align: center; vertical-align: top\">18</td>\n",
       "        <td style=\"padding-left: 1em; padding-right: 1em; text-align: center; vertical-align: top\">313</td>\n",
       "        <td style=\"padding-left: 1em; padding-right: 1em; text-align: center; vertical-align: top\">11.5</td>\n",
       "        <td style=\"padding-left: 1em; padding-right: 1em; text-align: center; vertical-align: top\">62</td>\n",
       "        <td style=\"padding-left: 1em; padding-right: 1em; text-align: center; vertical-align: top\">5</td>\n",
       "        <td style=\"padding-left: 1em; padding-right: 1em; text-align: center; vertical-align: top\">4</td>\n",
       "    </tr>\n",
       "    <tr>\n",
       "        <td style=\"padding-left: 1em; padding-right: 1em; text-align: center; vertical-align: top\">None</td>\n",
       "        <td style=\"padding-left: 1em; padding-right: 1em; text-align: center; vertical-align: top\">None</td>\n",
       "        <td style=\"padding-left: 1em; padding-right: 1em; text-align: center; vertical-align: top\">14.3</td>\n",
       "        <td style=\"padding-left: 1em; padding-right: 1em; text-align: center; vertical-align: top\">56</td>\n",
       "        <td style=\"padding-left: 1em; padding-right: 1em; text-align: center; vertical-align: top\">5</td>\n",
       "        <td style=\"padding-left: 1em; padding-right: 1em; text-align: center; vertical-align: top\">5</td>\n",
       "    </tr>\n",
       "    <tr>\n",
       "        <td style=\"padding-left: 1em; padding-right: 1em; text-align: center; vertical-align: top\">28</td>\n",
       "        <td style=\"padding-left: 1em; padding-right: 1em; text-align: center; vertical-align: top\">None</td>\n",
       "        <td style=\"padding-left: 1em; padding-right: 1em; text-align: center; vertical-align: top\">14.9</td>\n",
       "        <td style=\"padding-left: 1em; padding-right: 1em; text-align: center; vertical-align: top\">66</td>\n",
       "        <td style=\"padding-left: 1em; padding-right: 1em; text-align: center; vertical-align: top\">5</td>\n",
       "        <td style=\"padding-left: 1em; padding-right: 1em; text-align: center; vertical-align: top\">6</td>\n",
       "    </tr>\n",
       "    <tr>\n",
       "        <td style=\"padding-left: 1em; padding-right: 1em; text-align: center; vertical-align: top\">23</td>\n",
       "        <td style=\"padding-left: 1em; padding-right: 1em; text-align: center; vertical-align: top\">299</td>\n",
       "        <td style=\"padding-left: 1em; padding-right: 1em; text-align: center; vertical-align: top\">8.6</td>\n",
       "        <td style=\"padding-left: 1em; padding-right: 1em; text-align: center; vertical-align: top\">65</td>\n",
       "        <td style=\"padding-left: 1em; padding-right: 1em; text-align: center; vertical-align: top\">5</td>\n",
       "        <td style=\"padding-left: 1em; padding-right: 1em; text-align: center; vertical-align: top\">7</td>\n",
       "    </tr>\n",
       "    <tr>\n",
       "        <td style=\"padding-left: 1em; padding-right: 1em; text-align: center; vertical-align: top\">19</td>\n",
       "        <td style=\"padding-left: 1em; padding-right: 1em; text-align: center; vertical-align: top\">99</td>\n",
       "        <td style=\"padding-left: 1em; padding-right: 1em; text-align: center; vertical-align: top\">13.8</td>\n",
       "        <td style=\"padding-left: 1em; padding-right: 1em; text-align: center; vertical-align: top\">59</td>\n",
       "        <td style=\"padding-left: 1em; padding-right: 1em; text-align: center; vertical-align: top\">5</td>\n",
       "        <td style=\"padding-left: 1em; padding-right: 1em; text-align: center; vertical-align: top\">8</td>\n",
       "    </tr>\n",
       "    <tr>\n",
       "        <td style=\"padding-left: 1em; padding-right: 1em; text-align: center; vertical-align: top\">8</td>\n",
       "        <td style=\"padding-left: 1em; padding-right: 1em; text-align: center; vertical-align: top\">19</td>\n",
       "        <td style=\"padding-left: 1em; padding-right: 1em; text-align: center; vertical-align: top\">20.1</td>\n",
       "        <td style=\"padding-left: 1em; padding-right: 1em; text-align: center; vertical-align: top\">61</td>\n",
       "        <td style=\"padding-left: 1em; padding-right: 1em; text-align: center; vertical-align: top\">5</td>\n",
       "        <td style=\"padding-left: 1em; padding-right: 1em; text-align: center; vertical-align: top\">9</td>\n",
       "    </tr>\n",
       "    <tr>\n",
       "        <td style=\"padding-left: 1em; padding-right: 1em; text-align: center; vertical-align: top\">None</td>\n",
       "        <td style=\"padding-left: 1em; padding-right: 1em; text-align: center; vertical-align: top\">194</td>\n",
       "        <td style=\"padding-left: 1em; padding-right: 1em; text-align: center; vertical-align: top\">8.6</td>\n",
       "        <td style=\"padding-left: 1em; padding-right: 1em; text-align: center; vertical-align: top\">69</td>\n",
       "        <td style=\"padding-left: 1em; padding-right: 1em; text-align: center; vertical-align: top\">5</td>\n",
       "        <td style=\"padding-left: 1em; padding-right: 1em; text-align: center; vertical-align: top\">10</td>\n",
       "    </tr>\n",
       "</table>\n",
       "[10 rows x 6 columns]<br/>\n",
       "</div>"
      ],
      "text/plain": [
       "Columns:\n",
       "\tOzone\tint\n",
       "\tSolar.R\tint\n",
       "\tWind\tfloat\n",
       "\tTemp\tint\n",
       "\tMonth\tint\n",
       "\tDay\tint\n",
       "\n",
       "Rows: 10\n",
       "\n",
       "Data:\n",
       "+-------+---------+------+------+-------+-----+\n",
       "| Ozone | Solar.R | Wind | Temp | Month | Day |\n",
       "+-------+---------+------+------+-------+-----+\n",
       "|   41  |   190   | 7.4  |  67  |   5   |  1  |\n",
       "|   36  |   118   | 8.0  |  72  |   5   |  2  |\n",
       "|   12  |   149   | 12.6 |  74  |   5   |  3  |\n",
       "|   18  |   313   | 11.5 |  62  |   5   |  4  |\n",
       "|  None |   None  | 14.3 |  56  |   5   |  5  |\n",
       "|   28  |   None  | 14.9 |  66  |   5   |  6  |\n",
       "|   23  |   299   | 8.6  |  65  |   5   |  7  |\n",
       "|   19  |    99   | 13.8 |  59  |   5   |  8  |\n",
       "|   8   |    19   | 20.1 |  61  |   5   |  9  |\n",
       "|  None |   194   | 8.6  |  69  |   5   |  10 |\n",
       "+-------+---------+------+------+-------+-----+\n",
       "[10 rows x 6 columns]"
      ]
     },
     "execution_count": 13,
     "metadata": {},
     "output_type": "execute_result"
    }
   ],
   "source": [
    "file.head()"
   ]
  },
  {
   "cell_type": "code",
   "execution_count": 14,
   "metadata": {
    "collapsed": false
   },
   "outputs": [
    {
     "name": "stdout",
     "output_type": "stream",
     "text": [
      "Canvas is accessible via web browser at the URL: http://localhost:50254/index.html\n",
      "Opening Canvas in default web browser.\n"
     ]
    }
   ],
   "source": [
    "file.show()"
   ]
  },
  {
   "cell_type": "code",
   "execution_count": 15,
   "metadata": {
    "collapsed": true
   },
   "outputs": [],
   "source": [
    "graphlab.canvas.set_target('ipynb')"
   ]
  },
  {
   "cell_type": "code",
   "execution_count": 29,
   "metadata": {
    "collapsed": false
   },
   "outputs": [
    {
     "name": "stderr",
     "output_type": "stream",
     "text": [
      "2016-04-15 14:56:16,562 [WARNING] root, 226: View param Numeric is not recognized. You may want to use \"Summary\", \"Plots\", \"Table\" or a specific plot type such as \"Scatter Plot\". I am showing you the Summary view for now.\n",
      "2016-04-15 14:56:16,563 [WARNING] root, 226: View param Numeric is not recognized. You may want to use \"Summary\", \"Plots\", \"Table\" or a specific plot type such as \"Scatter Plot\". I am showing you the Summary view for now.\n",
      "2016-04-15 14:56:16,575 [WARNING] root, 226: View param Numeric is not recognized. You may want to use \"Summary\", \"Plots\", \"Table\" or a specific plot type such as \"Scatter Plot\". I am showing you the Summary view for now.\n",
      "2016-04-15 14:56:16,697 [WARNING] root, 226: View param Numeric is not recognized. You may want to use \"Summary\", \"Plots\", \"Table\" or a specific plot type such as \"Scatter Plot\". I am showing you the Summary view for now.\n"
     ]
    },
    {
     "data": {
      "application/javascript": [
       "$(\"head\").append($(\"<link/>\").attr({\n",
       "  rel:  \"stylesheet\",\n",
       "  type: \"text/css\",\n",
       "  href: \"//cdnjs.cloudflare.com/ajax/libs/font-awesome/4.1.0/css/font-awesome.min.css\"\n",
       "}));\n",
       "$(\"head\").append($(\"<link/>\").attr({\n",
       "  rel:  \"stylesheet\",\n",
       "  type: \"text/css\",\n",
       "  href: \"//dato.com/files/canvas/1.8.5/css/canvas.css\"\n",
       "}));\n",
       "\n",
       "            (function(){\n",
       "\n",
       "                var e = null;\n",
       "                if (typeof element == 'undefined') {\n",
       "                    var scripts = document.getElementsByTagName('script');\n",
       "                    var thisScriptTag = scripts[scripts.length-1];\n",
       "                    var parentDiv = thisScriptTag.parentNode;\n",
       "                    e = document.createElement('div');\n",
       "                    parentDiv.appendChild(e);\n",
       "                } else {\n",
       "                    e = element[0];\n",
       "                }\n",
       "\n",
       "                if (typeof requirejs !== 'undefined') {\n",
       "                    // disable load timeout; ipython_app.js is large and can take a while to load.\n",
       "                    requirejs.config({waitSeconds: 0});\n",
       "                }\n",
       "\n",
       "                require(['//dato.com/files/canvas/1.8.5/js/ipython_app.js'], function(IPythonApp){\n",
       "                    var app = new IPythonApp();\n",
       "                    app.attachView('sframe','Summary', {\"ipython\": true, \"sketch\": {\"Solar.R\": {\"std\": 89.74947304262034, \"complete\": true, \"min\": 7.0, \"max\": 334.0, \"quantile\": [7.0, 8.0, 13.0, 19.0, 20.0, 24.0, 25.0, 31.0, 36.0, 44.0, 47.0, 49.0, 51.0, 59.0, 65.0, 66.0, 77.0, 78.0, 82.0, 83.0, 92.0, 92.0, 98.0, 99.0, 112.0, 115.0, 118.0, 127.0, 127.0, 135.0, 137.0, 138.0, 139.0, 145.0, 148.0, 150.0, 153.0, 167.0, 175.0, 175.0, 183.0, 186.0, 188.0, 189.0, 190.0, 191.0, 192.0, 193.0, 197.0, 201.0, 207.0, 212.0, 213.0, 220.0, 220.0, 222.0, 223.0, 223.0, 224.0, 229.0, 230.0, 236.0, 237.0, 237.0, 238.0, 238.0, 242.0, 244.0, 250.0, 250.0, 252.0, 253.0, 255.0, 255.0, 258.0, 259.0, 259.0, 259.0, 260.0, 264.0, 266.0, 269.0, 272.0, 273.0, 274.0, 275.0, 276.0, 284.0, 285.0, 286.0, 290.0, 291.0, 294.0, 295.0, 307.0, 313.0, 320.0, 322.0, 323.0, 332.0, 334.0], \"median\": 207.0, \"numeric\": true, \"num_unique\": 117, \"num_undefined\": 7, \"var\": 8054.967911428035, \"progress\": 1.0, \"size\": 153, \"frequent_items\": {\"7\": {\"frequency\": 1, \"value\": 7}, \"8\": {\"frequency\": 1, \"value\": 8}, \"13\": {\"frequency\": 1, \"value\": 13}, \"14\": {\"frequency\": 1, \"value\": 14}, \"19\": {\"frequency\": 1, \"value\": 19}, \"20\": {\"frequency\": 1, \"value\": 20}, \"24\": {\"frequency\": 2, \"value\": 24}, \"25\": {\"frequency\": 1, \"value\": 25}, \"27\": {\"frequency\": 1, \"value\": 27}, \"31\": {\"frequency\": 1, \"value\": 31}, \"36\": {\"frequency\": 1, \"value\": 36}, \"37\": {\"frequency\": 1, \"value\": 37}, \"44\": {\"frequency\": 1, \"value\": 44}, \"47\": {\"frequency\": 1, \"value\": 47}, \"48\": {\"frequency\": 1, \"value\": 48}, \"49\": {\"frequency\": 1, \"value\": 49}, \"51\": {\"frequency\": 1, \"value\": 51}, \"59\": {\"frequency\": 1, \"value\": 59}, \"64\": {\"frequency\": 1, \"value\": 64}, \"65\": {\"frequency\": 1, \"value\": 65}, \"66\": {\"frequency\": 1, \"value\": 66}, \"71\": {\"frequency\": 1, \"value\": 71}, \"77\": {\"frequency\": 1, \"value\": 77}, \"78\": {\"frequency\": 1, \"value\": 78}, \"81\": {\"frequency\": 1, \"value\": 81}, \"82\": {\"frequency\": 1, \"value\": 82}, \"83\": {\"frequency\": 1, \"value\": 83}, \"91\": {\"frequency\": 1, \"value\": 91}, \"92\": {\"frequency\": 2, \"value\": 92}, \"95\": {\"frequency\": 1, \"value\": 95}, \"98\": {\"frequency\": 1, \"value\": 98}, \"99\": {\"frequency\": 1, \"value\": 99}, \"101\": {\"frequency\": 1, \"value\": 101}, \"112\": {\"frequency\": 1, \"value\": 112}, \"115\": {\"frequency\": 1, \"value\": 115}, \"118\": {\"frequency\": 1, \"value\": 118}, \"120\": {\"frequency\": 1, \"value\": 120}, \"127\": {\"frequency\": 2, \"value\": 127}, \"131\": {\"frequency\": 1, \"value\": 131}, \"135\": {\"frequency\": 1, \"value\": 135}, \"137\": {\"frequency\": 2, \"value\": 137}, \"138\": {\"frequency\": 1, \"value\": 138}, \"139\": {\"frequency\": 2, \"value\": 139}, \"145\": {\"frequency\": 1, \"value\": 145}, \"148\": {\"frequency\": 1, \"value\": 148}, \"149\": {\"frequency\": 1, \"value\": 149}, \"150\": {\"frequency\": 1, \"value\": 150}, \"153\": {\"frequency\": 1, \"value\": 153}, \"157\": {\"frequency\": 1, \"value\": 157}, \"167\": {\"frequency\": 1, \"value\": 167}, \"175\": {\"frequency\": 3, \"value\": 175}, \"183\": {\"frequency\": 1, \"value\": 183}, \"186\": {\"frequency\": 1, \"value\": 186}, \"187\": {\"frequency\": 1, \"value\": 187}, \"188\": {\"frequency\": 1, \"value\": 188}, \"189\": {\"frequency\": 1, \"value\": 189}, \"190\": {\"frequency\": 2, \"value\": 190}, \"191\": {\"frequency\": 2, \"value\": 191}, \"192\": {\"frequency\": 1, \"value\": 192}, \"193\": {\"frequency\": 1, \"value\": 193}, \"194\": {\"frequency\": 1, \"value\": 194}, \"197\": {\"frequency\": 1, \"value\": 197}, \"201\": {\"frequency\": 1, \"value\": 201}, \"203\": {\"frequency\": 1, \"value\": 203}, \"207\": {\"frequency\": 1, \"value\": 207}, \"212\": {\"frequency\": 1, \"value\": 212}, \"213\": {\"frequency\": 1, \"value\": 213}, \"215\": {\"frequency\": 1, \"value\": 215}, \"220\": {\"frequency\": 3, \"value\": 220}, \"222\": {\"frequency\": 1, \"value\": 222}, \"223\": {\"frequency\": 3, \"value\": 223}, \"224\": {\"frequency\": 1, \"value\": 224}, \"225\": {\"frequency\": 1, \"value\": 225}, \"229\": {\"frequency\": 1, \"value\": 229}, \"230\": {\"frequency\": 1, \"value\": 230}, \"236\": {\"frequency\": 2, \"value\": 236}, \"237\": {\"frequency\": 2, \"value\": 237}, \"238\": {\"frequency\": 4, \"value\": 238}, \"242\": {\"frequency\": 1, \"value\": 242}, \"244\": {\"frequency\": 1, \"value\": 244}, \"248\": {\"frequency\": 1, \"value\": 248}, \"250\": {\"frequency\": 2, \"value\": 250}, \"252\": {\"frequency\": 2, \"value\": 252}, \"253\": {\"frequency\": 1, \"value\": 253}, \"254\": {\"frequency\": 1, \"value\": 254}, \"255\": {\"frequency\": 2, \"value\": 255}, \"256\": {\"frequency\": 1, \"value\": 256}, \"258\": {\"frequency\": 1, \"value\": 258}, \"259\": {\"frequency\": 4, \"value\": 259}, \"260\": {\"frequency\": 1, \"value\": 260}, \"264\": {\"frequency\": 2, \"value\": 264}, \"266\": {\"frequency\": 1, \"value\": 266}, \"267\": {\"frequency\": 1, \"value\": 267}, \"269\": {\"frequency\": 1, \"value\": 269}, \"272\": {\"frequency\": 1, \"value\": 272}, \"273\": {\"frequency\": 2, \"value\": 273}, \"274\": {\"frequency\": 2, \"value\": 274}, \"275\": {\"frequency\": 1, \"value\": 275}, \"276\": {\"frequency\": 1, \"value\": 276}, \"279\": {\"frequency\": 1, \"value\": 279}, \"284\": {\"frequency\": 1, \"value\": 284}, \"285\": {\"frequency\": 1, \"value\": 285}, \"286\": {\"frequency\": 1, \"value\": 286}, \"287\": {\"frequency\": 1, \"value\": 287}, \"290\": {\"frequency\": 1, \"value\": 290}, \"291\": {\"frequency\": 2, \"value\": 291}, \"294\": {\"frequency\": 1, \"value\": 294}, \"295\": {\"frequency\": 1, \"value\": 295}, \"299\": {\"frequency\": 1, \"value\": 299}, \"307\": {\"frequency\": 1, \"value\": 307}, \"313\": {\"frequency\": 1, \"value\": 313}, \"314\": {\"frequency\": 1, \"value\": 314}, \"320\": {\"frequency\": 1, \"value\": 320}, \"322\": {\"frequency\": 2, \"value\": 322}, \"323\": {\"frequency\": 1, \"value\": 323}, \"332\": {\"frequency\": 1, \"value\": 332}, \"334\": {\"frequency\": 1, \"value\": 334}}, \"mean\": 185.9315068493151}, \"Temp\": {\"std\": 9.434286778166502, \"complete\": true, \"min\": 56.0, \"max\": 97.0, \"quantile\": [56.0, 57.0, 57.0, 58.0, 59.0, 59.0, 61.0, 61.0, 62.0, 63.0, 64.0, 65.0, 66.0, 66.0, 67.0, 67.0, 67.0, 68.0, 68.0, 69.0, 69.0, 70.0, 71.0, 71.0, 72.0, 72.0, 73.0, 73.0, 73.0, 74.0, 74.0, 74.0, 75.0, 75.0, 76.0, 76.0, 76.0, 76.0, 76.0, 76.0, 77.0, 77.0, 77.0, 77.0, 77.0, 78.0, 78.0, 78.0, 78.0, 79.0, 79.0, 79.0, 79.0, 80.0, 80.0, 80.0, 81.0, 81.0, 81.0, 81.0, 81.0, 81.0, 81.0, 82.0, 82.0, 82.0, 82.0, 82.0, 82.0, 83.0, 83.0, 83.0, 84.0, 84.0, 84.0, 85.0, 85.0, 85.0, 86.0, 86.0, 86.0, 86.0, 86.0, 87.0, 87.0, 87.0, 88.0, 88.0, 89.0, 90.0, 90.0, 91.0, 91.0, 92.0, 92.0, 92.0, 93.0, 93.0, 94.0, 96.0, 97.0], \"median\": 79.0, \"numeric\": true, \"num_unique\": 40, \"num_undefined\": 0, \"var\": 89.00576701268727, \"progress\": 1.0, \"size\": 153, \"frequent_items\": {\"56\": {\"frequency\": 1, \"value\": 56}, \"57\": {\"frequency\": 3, \"value\": 57}, \"58\": {\"frequency\": 2, \"value\": 58}, \"59\": {\"frequency\": 2, \"value\": 59}, \"61\": {\"frequency\": 3, \"value\": 61}, \"62\": {\"frequency\": 2, \"value\": 62}, \"63\": {\"frequency\": 1, \"value\": 63}, \"64\": {\"frequency\": 2, \"value\": 64}, \"65\": {\"frequency\": 2, \"value\": 65}, \"66\": {\"frequency\": 3, \"value\": 66}, \"67\": {\"frequency\": 4, \"value\": 67}, \"68\": {\"frequency\": 4, \"value\": 68}, \"69\": {\"frequency\": 3, \"value\": 69}, \"70\": {\"frequency\": 1, \"value\": 70}, \"71\": {\"frequency\": 3, \"value\": 71}, \"72\": {\"frequency\": 3, \"value\": 72}, \"73\": {\"frequency\": 5, \"value\": 73}, \"74\": {\"frequency\": 4, \"value\": 74}, \"75\": {\"frequency\": 4, \"value\": 75}, \"76\": {\"frequency\": 9, \"value\": 76}, \"77\": {\"frequency\": 7, \"value\": 77}, \"78\": {\"frequency\": 6, \"value\": 78}, \"79\": {\"frequency\": 6, \"value\": 79}, \"80\": {\"frequency\": 5, \"value\": 80}, \"81\": {\"frequency\": 11, \"value\": 81}, \"82\": {\"frequency\": 9, \"value\": 82}, \"83\": {\"frequency\": 4, \"value\": 83}, \"84\": {\"frequency\": 5, \"value\": 84}, \"85\": {\"frequency\": 5, \"value\": 85}, \"86\": {\"frequency\": 7, \"value\": 86}, \"87\": {\"frequency\": 5, \"value\": 87}, \"88\": {\"frequency\": 3, \"value\": 88}, \"89\": {\"frequency\": 2, \"value\": 89}, \"90\": {\"frequency\": 3, \"value\": 90}, \"91\": {\"frequency\": 2, \"value\": 91}, \"92\": {\"frequency\": 5, \"value\": 92}, \"93\": {\"frequency\": 3, \"value\": 93}, \"94\": {\"frequency\": 2, \"value\": 94}, \"96\": {\"frequency\": 1, \"value\": 96}, \"97\": {\"frequency\": 1, \"value\": 97}}, \"mean\": 77.88235294117645}}, \"selected_variable\": {\"name\": [\"<SFrame>\"], \"descriptives\": {\"rows\": 153, \"columns\": 2}, \"view_component\": \"Summary\", \"view_file\": \"sframe\", \"view_params\": {\"y\": null, \"x\": null, \"columns\": [\"Solar.R\", \"Temp\"], \"view\": \"Numeric\"}, \"view_components\": [\"Summary\", \"Table\", \"Bar Chart\", \"BoxWhisker Plot\", \"Line Chart\", \"Scatter Plot\", \"Heat Map\", \"Plots\"], \"type\": \"SFrame\", \"columns\": [{\"dtype\": \"int\", \"name\": \"Solar.R\"}, {\"dtype\": \"int\", \"name\": \"Temp\"}], \"column_identifiers\": [\"Solar.R\", \"Temp\"]}, \"columns\": [{\"dtype\": \"int\", \"name\": \"Solar.R\"}, {\"dtype\": \"int\", \"name\": \"Temp\"}]}, e);\n",
       "                });\n",
       "            })();\n",
       "        "
      ]
     },
     "metadata": {},
     "output_type": "display_data"
    }
   ],
   "source": [
    "file['Solar.R', 'Temp' ].show(view = 'Numeric')"
   ]
  },
  {
   "cell_type": "code",
   "execution_count": 20,
   "metadata": {
    "collapsed": false
   },
   "outputs": [
    {
     "data": {
      "text/html": [
       "<div style=\"max-height:1000px;max-width:1500px;overflow:auto;\"><table frame=\"box\" rules=\"cols\">\n",
       "    <tr>\n",
       "        <th style=\"padding-left: 1em; padding-right: 1em; text-align: center\">Ozone</th>\n",
       "        <th style=\"padding-left: 1em; padding-right: 1em; text-align: center\">Solar.R</th>\n",
       "        <th style=\"padding-left: 1em; padding-right: 1em; text-align: center\">Wind</th>\n",
       "        <th style=\"padding-left: 1em; padding-right: 1em; text-align: center\">Temp</th>\n",
       "        <th style=\"padding-left: 1em; padding-right: 1em; text-align: center\">Month</th>\n",
       "        <th style=\"padding-left: 1em; padding-right: 1em; text-align: center\">Day</th>\n",
       "    </tr>\n",
       "    <tr>\n",
       "        <td style=\"padding-left: 1em; padding-right: 1em; text-align: center; vertical-align: top\">41</td>\n",
       "        <td style=\"padding-left: 1em; padding-right: 1em; text-align: center; vertical-align: top\">190</td>\n",
       "        <td style=\"padding-left: 1em; padding-right: 1em; text-align: center; vertical-align: top\">7.4</td>\n",
       "        <td style=\"padding-left: 1em; padding-right: 1em; text-align: center; vertical-align: top\">67</td>\n",
       "        <td style=\"padding-left: 1em; padding-right: 1em; text-align: center; vertical-align: top\">5</td>\n",
       "        <td style=\"padding-left: 1em; padding-right: 1em; text-align: center; vertical-align: top\">1</td>\n",
       "    </tr>\n",
       "    <tr>\n",
       "        <td style=\"padding-left: 1em; padding-right: 1em; text-align: center; vertical-align: top\">36</td>\n",
       "        <td style=\"padding-left: 1em; padding-right: 1em; text-align: center; vertical-align: top\">118</td>\n",
       "        <td style=\"padding-left: 1em; padding-right: 1em; text-align: center; vertical-align: top\">8.0</td>\n",
       "        <td style=\"padding-left: 1em; padding-right: 1em; text-align: center; vertical-align: top\">72</td>\n",
       "        <td style=\"padding-left: 1em; padding-right: 1em; text-align: center; vertical-align: top\">5</td>\n",
       "        <td style=\"padding-left: 1em; padding-right: 1em; text-align: center; vertical-align: top\">2</td>\n",
       "    </tr>\n",
       "    <tr>\n",
       "        <td style=\"padding-left: 1em; padding-right: 1em; text-align: center; vertical-align: top\">12</td>\n",
       "        <td style=\"padding-left: 1em; padding-right: 1em; text-align: center; vertical-align: top\">149</td>\n",
       "        <td style=\"padding-left: 1em; padding-right: 1em; text-align: center; vertical-align: top\">12.6</td>\n",
       "        <td style=\"padding-left: 1em; padding-right: 1em; text-align: center; vertical-align: top\">74</td>\n",
       "        <td style=\"padding-left: 1em; padding-right: 1em; text-align: center; vertical-align: top\">5</td>\n",
       "        <td style=\"padding-left: 1em; padding-right: 1em; text-align: center; vertical-align: top\">3</td>\n",
       "    </tr>\n",
       "    <tr>\n",
       "        <td style=\"padding-left: 1em; padding-right: 1em; text-align: center; vertical-align: top\">18</td>\n",
       "        <td style=\"padding-left: 1em; padding-right: 1em; text-align: center; vertical-align: top\">313</td>\n",
       "        <td style=\"padding-left: 1em; padding-right: 1em; text-align: center; vertical-align: top\">11.5</td>\n",
       "        <td style=\"padding-left: 1em; padding-right: 1em; text-align: center; vertical-align: top\">62</td>\n",
       "        <td style=\"padding-left: 1em; padding-right: 1em; text-align: center; vertical-align: top\">5</td>\n",
       "        <td style=\"padding-left: 1em; padding-right: 1em; text-align: center; vertical-align: top\">4</td>\n",
       "    </tr>\n",
       "    <tr>\n",
       "        <td style=\"padding-left: 1em; padding-right: 1em; text-align: center; vertical-align: top\">None</td>\n",
       "        <td style=\"padding-left: 1em; padding-right: 1em; text-align: center; vertical-align: top\">None</td>\n",
       "        <td style=\"padding-left: 1em; padding-right: 1em; text-align: center; vertical-align: top\">14.3</td>\n",
       "        <td style=\"padding-left: 1em; padding-right: 1em; text-align: center; vertical-align: top\">56</td>\n",
       "        <td style=\"padding-left: 1em; padding-right: 1em; text-align: center; vertical-align: top\">5</td>\n",
       "        <td style=\"padding-left: 1em; padding-right: 1em; text-align: center; vertical-align: top\">5</td>\n",
       "    </tr>\n",
       "    <tr>\n",
       "        <td style=\"padding-left: 1em; padding-right: 1em; text-align: center; vertical-align: top\">28</td>\n",
       "        <td style=\"padding-left: 1em; padding-right: 1em; text-align: center; vertical-align: top\">None</td>\n",
       "        <td style=\"padding-left: 1em; padding-right: 1em; text-align: center; vertical-align: top\">14.9</td>\n",
       "        <td style=\"padding-left: 1em; padding-right: 1em; text-align: center; vertical-align: top\">66</td>\n",
       "        <td style=\"padding-left: 1em; padding-right: 1em; text-align: center; vertical-align: top\">5</td>\n",
       "        <td style=\"padding-left: 1em; padding-right: 1em; text-align: center; vertical-align: top\">6</td>\n",
       "    </tr>\n",
       "    <tr>\n",
       "        <td style=\"padding-left: 1em; padding-right: 1em; text-align: center; vertical-align: top\">23</td>\n",
       "        <td style=\"padding-left: 1em; padding-right: 1em; text-align: center; vertical-align: top\">299</td>\n",
       "        <td style=\"padding-left: 1em; padding-right: 1em; text-align: center; vertical-align: top\">8.6</td>\n",
       "        <td style=\"padding-left: 1em; padding-right: 1em; text-align: center; vertical-align: top\">65</td>\n",
       "        <td style=\"padding-left: 1em; padding-right: 1em; text-align: center; vertical-align: top\">5</td>\n",
       "        <td style=\"padding-left: 1em; padding-right: 1em; text-align: center; vertical-align: top\">7</td>\n",
       "    </tr>\n",
       "    <tr>\n",
       "        <td style=\"padding-left: 1em; padding-right: 1em; text-align: center; vertical-align: top\">19</td>\n",
       "        <td style=\"padding-left: 1em; padding-right: 1em; text-align: center; vertical-align: top\">99</td>\n",
       "        <td style=\"padding-left: 1em; padding-right: 1em; text-align: center; vertical-align: top\">13.8</td>\n",
       "        <td style=\"padding-left: 1em; padding-right: 1em; text-align: center; vertical-align: top\">59</td>\n",
       "        <td style=\"padding-left: 1em; padding-right: 1em; text-align: center; vertical-align: top\">5</td>\n",
       "        <td style=\"padding-left: 1em; padding-right: 1em; text-align: center; vertical-align: top\">8</td>\n",
       "    </tr>\n",
       "    <tr>\n",
       "        <td style=\"padding-left: 1em; padding-right: 1em; text-align: center; vertical-align: top\">8</td>\n",
       "        <td style=\"padding-left: 1em; padding-right: 1em; text-align: center; vertical-align: top\">19</td>\n",
       "        <td style=\"padding-left: 1em; padding-right: 1em; text-align: center; vertical-align: top\">20.1</td>\n",
       "        <td style=\"padding-left: 1em; padding-right: 1em; text-align: center; vertical-align: top\">61</td>\n",
       "        <td style=\"padding-left: 1em; padding-right: 1em; text-align: center; vertical-align: top\">5</td>\n",
       "        <td style=\"padding-left: 1em; padding-right: 1em; text-align: center; vertical-align: top\">9</td>\n",
       "    </tr>\n",
       "    <tr>\n",
       "        <td style=\"padding-left: 1em; padding-right: 1em; text-align: center; vertical-align: top\">None</td>\n",
       "        <td style=\"padding-left: 1em; padding-right: 1em; text-align: center; vertical-align: top\">194</td>\n",
       "        <td style=\"padding-left: 1em; padding-right: 1em; text-align: center; vertical-align: top\">8.6</td>\n",
       "        <td style=\"padding-left: 1em; padding-right: 1em; text-align: center; vertical-align: top\">69</td>\n",
       "        <td style=\"padding-left: 1em; padding-right: 1em; text-align: center; vertical-align: top\">5</td>\n",
       "        <td style=\"padding-left: 1em; padding-right: 1em; text-align: center; vertical-align: top\">10</td>\n",
       "    </tr>\n",
       "</table>\n",
       "[153 rows x 6 columns]<br/>Note: Only the head of the SFrame is printed.<br/>You can use print_rows(num_rows=m, num_columns=n) to print more rows and columns.\n",
       "</div>"
      ],
      "text/plain": [
       "Columns:\n",
       "\tOzone\tint\n",
       "\tSolar.R\tint\n",
       "\tWind\tfloat\n",
       "\tTemp\tint\n",
       "\tMonth\tint\n",
       "\tDay\tint\n",
       "\n",
       "Rows: 153\n",
       "\n",
       "Data:\n",
       "+-------+---------+------+------+-------+-----+\n",
       "| Ozone | Solar.R | Wind | Temp | Month | Day |\n",
       "+-------+---------+------+------+-------+-----+\n",
       "|   41  |   190   | 7.4  |  67  |   5   |  1  |\n",
       "|   36  |   118   | 8.0  |  72  |   5   |  2  |\n",
       "|   12  |   149   | 12.6 |  74  |   5   |  3  |\n",
       "|   18  |   313   | 11.5 |  62  |   5   |  4  |\n",
       "|  None |   None  | 14.3 |  56  |   5   |  5  |\n",
       "|   28  |   None  | 14.9 |  66  |   5   |  6  |\n",
       "|   23  |   299   | 8.6  |  65  |   5   |  7  |\n",
       "|   19  |    99   | 13.8 |  59  |   5   |  8  |\n",
       "|   8   |    19   | 20.1 |  61  |   5   |  9  |\n",
       "|  None |   194   | 8.6  |  69  |   5   |  10 |\n",
       "+-------+---------+------+------+-------+-----+\n",
       "[153 rows x 6 columns]\n",
       "Note: Only the head of the SFrame is printed.\n",
       "You can use print_rows(num_rows=m, num_columns=n) to print more rows and columns."
      ]
     },
     "execution_count": 20,
     "metadata": {},
     "output_type": "execute_result"
    }
   ],
   "source": [
    "file"
   ]
  },
  {
   "cell_type": "code",
   "execution_count": 23,
   "metadata": {
    "collapsed": false
   },
   "outputs": [
    {
     "data": {
      "text/plain": [
       "77.88235294117645"
      ]
     },
     "execution_count": 23,
     "metadata": {},
     "output_type": "execute_result"
    }
   ],
   "source": [
    "file['Temp'].mean()"
   ]
  },
  {
   "cell_type": "code",
   "execution_count": 27,
   "metadata": {
    "collapsed": true
   },
   "outputs": [],
   "source": [
    "file['Solar.R per Temp'] = file['Solar.R'] / file['Temp'] "
   ]
  },
  {
   "cell_type": "code",
   "execution_count": 28,
   "metadata": {
    "collapsed": false
   },
   "outputs": [
    {
     "data": {
      "text/html": [
       "<div style=\"max-height:1000px;max-width:1500px;overflow:auto;\"><table frame=\"box\" rules=\"cols\">\n",
       "    <tr>\n",
       "        <th style=\"padding-left: 1em; padding-right: 1em; text-align: center\">Ozone</th>\n",
       "        <th style=\"padding-left: 1em; padding-right: 1em; text-align: center\">Solar.R</th>\n",
       "        <th style=\"padding-left: 1em; padding-right: 1em; text-align: center\">Wind</th>\n",
       "        <th style=\"padding-left: 1em; padding-right: 1em; text-align: center\">Temp</th>\n",
       "        <th style=\"padding-left: 1em; padding-right: 1em; text-align: center\">Month</th>\n",
       "        <th style=\"padding-left: 1em; padding-right: 1em; text-align: center\">Day</th>\n",
       "        <th style=\"padding-left: 1em; padding-right: 1em; text-align: center\">Solar.R per Temp</th>\n",
       "    </tr>\n",
       "    <tr>\n",
       "        <td style=\"padding-left: 1em; padding-right: 1em; text-align: center; vertical-align: top\">41</td>\n",
       "        <td style=\"padding-left: 1em; padding-right: 1em; text-align: center; vertical-align: top\">190</td>\n",
       "        <td style=\"padding-left: 1em; padding-right: 1em; text-align: center; vertical-align: top\">7.4</td>\n",
       "        <td style=\"padding-left: 1em; padding-right: 1em; text-align: center; vertical-align: top\">67</td>\n",
       "        <td style=\"padding-left: 1em; padding-right: 1em; text-align: center; vertical-align: top\">5</td>\n",
       "        <td style=\"padding-left: 1em; padding-right: 1em; text-align: center; vertical-align: top\">1</td>\n",
       "        <td style=\"padding-left: 1em; padding-right: 1em; text-align: center; vertical-align: top\">2.83582089552</td>\n",
       "    </tr>\n",
       "    <tr>\n",
       "        <td style=\"padding-left: 1em; padding-right: 1em; text-align: center; vertical-align: top\">36</td>\n",
       "        <td style=\"padding-left: 1em; padding-right: 1em; text-align: center; vertical-align: top\">118</td>\n",
       "        <td style=\"padding-left: 1em; padding-right: 1em; text-align: center; vertical-align: top\">8.0</td>\n",
       "        <td style=\"padding-left: 1em; padding-right: 1em; text-align: center; vertical-align: top\">72</td>\n",
       "        <td style=\"padding-left: 1em; padding-right: 1em; text-align: center; vertical-align: top\">5</td>\n",
       "        <td style=\"padding-left: 1em; padding-right: 1em; text-align: center; vertical-align: top\">2</td>\n",
       "        <td style=\"padding-left: 1em; padding-right: 1em; text-align: center; vertical-align: top\">1.63888888889</td>\n",
       "    </tr>\n",
       "    <tr>\n",
       "        <td style=\"padding-left: 1em; padding-right: 1em; text-align: center; vertical-align: top\">12</td>\n",
       "        <td style=\"padding-left: 1em; padding-right: 1em; text-align: center; vertical-align: top\">149</td>\n",
       "        <td style=\"padding-left: 1em; padding-right: 1em; text-align: center; vertical-align: top\">12.6</td>\n",
       "        <td style=\"padding-left: 1em; padding-right: 1em; text-align: center; vertical-align: top\">74</td>\n",
       "        <td style=\"padding-left: 1em; padding-right: 1em; text-align: center; vertical-align: top\">5</td>\n",
       "        <td style=\"padding-left: 1em; padding-right: 1em; text-align: center; vertical-align: top\">3</td>\n",
       "        <td style=\"padding-left: 1em; padding-right: 1em; text-align: center; vertical-align: top\">2.01351351351</td>\n",
       "    </tr>\n",
       "    <tr>\n",
       "        <td style=\"padding-left: 1em; padding-right: 1em; text-align: center; vertical-align: top\">18</td>\n",
       "        <td style=\"padding-left: 1em; padding-right: 1em; text-align: center; vertical-align: top\">313</td>\n",
       "        <td style=\"padding-left: 1em; padding-right: 1em; text-align: center; vertical-align: top\">11.5</td>\n",
       "        <td style=\"padding-left: 1em; padding-right: 1em; text-align: center; vertical-align: top\">62</td>\n",
       "        <td style=\"padding-left: 1em; padding-right: 1em; text-align: center; vertical-align: top\">5</td>\n",
       "        <td style=\"padding-left: 1em; padding-right: 1em; text-align: center; vertical-align: top\">4</td>\n",
       "        <td style=\"padding-left: 1em; padding-right: 1em; text-align: center; vertical-align: top\">5.04838709677</td>\n",
       "    </tr>\n",
       "    <tr>\n",
       "        <td style=\"padding-left: 1em; padding-right: 1em; text-align: center; vertical-align: top\">None</td>\n",
       "        <td style=\"padding-left: 1em; padding-right: 1em; text-align: center; vertical-align: top\">None</td>\n",
       "        <td style=\"padding-left: 1em; padding-right: 1em; text-align: center; vertical-align: top\">14.3</td>\n",
       "        <td style=\"padding-left: 1em; padding-right: 1em; text-align: center; vertical-align: top\">56</td>\n",
       "        <td style=\"padding-left: 1em; padding-right: 1em; text-align: center; vertical-align: top\">5</td>\n",
       "        <td style=\"padding-left: 1em; padding-right: 1em; text-align: center; vertical-align: top\">5</td>\n",
       "        <td style=\"padding-left: 1em; padding-right: 1em; text-align: center; vertical-align: top\">None</td>\n",
       "    </tr>\n",
       "    <tr>\n",
       "        <td style=\"padding-left: 1em; padding-right: 1em; text-align: center; vertical-align: top\">28</td>\n",
       "        <td style=\"padding-left: 1em; padding-right: 1em; text-align: center; vertical-align: top\">None</td>\n",
       "        <td style=\"padding-left: 1em; padding-right: 1em; text-align: center; vertical-align: top\">14.9</td>\n",
       "        <td style=\"padding-left: 1em; padding-right: 1em; text-align: center; vertical-align: top\">66</td>\n",
       "        <td style=\"padding-left: 1em; padding-right: 1em; text-align: center; vertical-align: top\">5</td>\n",
       "        <td style=\"padding-left: 1em; padding-right: 1em; text-align: center; vertical-align: top\">6</td>\n",
       "        <td style=\"padding-left: 1em; padding-right: 1em; text-align: center; vertical-align: top\">None</td>\n",
       "    </tr>\n",
       "    <tr>\n",
       "        <td style=\"padding-left: 1em; padding-right: 1em; text-align: center; vertical-align: top\">23</td>\n",
       "        <td style=\"padding-left: 1em; padding-right: 1em; text-align: center; vertical-align: top\">299</td>\n",
       "        <td style=\"padding-left: 1em; padding-right: 1em; text-align: center; vertical-align: top\">8.6</td>\n",
       "        <td style=\"padding-left: 1em; padding-right: 1em; text-align: center; vertical-align: top\">65</td>\n",
       "        <td style=\"padding-left: 1em; padding-right: 1em; text-align: center; vertical-align: top\">5</td>\n",
       "        <td style=\"padding-left: 1em; padding-right: 1em; text-align: center; vertical-align: top\">7</td>\n",
       "        <td style=\"padding-left: 1em; padding-right: 1em; text-align: center; vertical-align: top\">4.6</td>\n",
       "    </tr>\n",
       "    <tr>\n",
       "        <td style=\"padding-left: 1em; padding-right: 1em; text-align: center; vertical-align: top\">19</td>\n",
       "        <td style=\"padding-left: 1em; padding-right: 1em; text-align: center; vertical-align: top\">99</td>\n",
       "        <td style=\"padding-left: 1em; padding-right: 1em; text-align: center; vertical-align: top\">13.8</td>\n",
       "        <td style=\"padding-left: 1em; padding-right: 1em; text-align: center; vertical-align: top\">59</td>\n",
       "        <td style=\"padding-left: 1em; padding-right: 1em; text-align: center; vertical-align: top\">5</td>\n",
       "        <td style=\"padding-left: 1em; padding-right: 1em; text-align: center; vertical-align: top\">8</td>\n",
       "        <td style=\"padding-left: 1em; padding-right: 1em; text-align: center; vertical-align: top\">1.67796610169</td>\n",
       "    </tr>\n",
       "    <tr>\n",
       "        <td style=\"padding-left: 1em; padding-right: 1em; text-align: center; vertical-align: top\">8</td>\n",
       "        <td style=\"padding-left: 1em; padding-right: 1em; text-align: center; vertical-align: top\">19</td>\n",
       "        <td style=\"padding-left: 1em; padding-right: 1em; text-align: center; vertical-align: top\">20.1</td>\n",
       "        <td style=\"padding-left: 1em; padding-right: 1em; text-align: center; vertical-align: top\">61</td>\n",
       "        <td style=\"padding-left: 1em; padding-right: 1em; text-align: center; vertical-align: top\">5</td>\n",
       "        <td style=\"padding-left: 1em; padding-right: 1em; text-align: center; vertical-align: top\">9</td>\n",
       "        <td style=\"padding-left: 1em; padding-right: 1em; text-align: center; vertical-align: top\">0.311475409836</td>\n",
       "    </tr>\n",
       "    <tr>\n",
       "        <td style=\"padding-left: 1em; padding-right: 1em; text-align: center; vertical-align: top\">None</td>\n",
       "        <td style=\"padding-left: 1em; padding-right: 1em; text-align: center; vertical-align: top\">194</td>\n",
       "        <td style=\"padding-left: 1em; padding-right: 1em; text-align: center; vertical-align: top\">8.6</td>\n",
       "        <td style=\"padding-left: 1em; padding-right: 1em; text-align: center; vertical-align: top\">69</td>\n",
       "        <td style=\"padding-left: 1em; padding-right: 1em; text-align: center; vertical-align: top\">5</td>\n",
       "        <td style=\"padding-left: 1em; padding-right: 1em; text-align: center; vertical-align: top\">10</td>\n",
       "        <td style=\"padding-left: 1em; padding-right: 1em; text-align: center; vertical-align: top\">2.8115942029</td>\n",
       "    </tr>\n",
       "</table>\n",
       "[153 rows x 7 columns]<br/>Note: Only the head of the SFrame is printed.<br/>You can use print_rows(num_rows=m, num_columns=n) to print more rows and columns.\n",
       "</div>"
      ],
      "text/plain": [
       "Columns:\n",
       "\tOzone\tint\n",
       "\tSolar.R\tint\n",
       "\tWind\tfloat\n",
       "\tTemp\tint\n",
       "\tMonth\tint\n",
       "\tDay\tint\n",
       "\tSolar.R per Temp\tfloat\n",
       "\n",
       "Rows: 153\n",
       "\n",
       "Data:\n",
       "+-------+---------+------+------+-------+-----+------------------+\n",
       "| Ozone | Solar.R | Wind | Temp | Month | Day | Solar.R per Temp |\n",
       "+-------+---------+------+------+-------+-----+------------------+\n",
       "|   41  |   190   | 7.4  |  67  |   5   |  1  |  2.83582089552   |\n",
       "|   36  |   118   | 8.0  |  72  |   5   |  2  |  1.63888888889   |\n",
       "|   12  |   149   | 12.6 |  74  |   5   |  3  |  2.01351351351   |\n",
       "|   18  |   313   | 11.5 |  62  |   5   |  4  |  5.04838709677   |\n",
       "|  None |   None  | 14.3 |  56  |   5   |  5  |       None       |\n",
       "|   28  |   None  | 14.9 |  66  |   5   |  6  |       None       |\n",
       "|   23  |   299   | 8.6  |  65  |   5   |  7  |       4.6        |\n",
       "|   19  |    99   | 13.8 |  59  |   5   |  8  |  1.67796610169   |\n",
       "|   8   |    19   | 20.1 |  61  |   5   |  9  |  0.311475409836  |\n",
       "|  None |   194   | 8.6  |  69  |   5   |  10 |   2.8115942029   |\n",
       "+-------+---------+------+------+-------+-----+------------------+\n",
       "[153 rows x 7 columns]\n",
       "Note: Only the head of the SFrame is printed.\n",
       "You can use print_rows(num_rows=m, num_columns=n) to print more rows and columns."
      ]
     },
     "execution_count": 28,
     "metadata": {},
     "output_type": "execute_result"
    }
   ],
   "source": [
    "file"
   ]
  },
  {
   "cell_type": "code",
   "execution_count": 30,
   "metadata": {
    "collapsed": false
   },
   "outputs": [
    {
     "name": "stderr",
     "output_type": "stream",
     "text": [
      "2016-04-15 14:57:45,842 [WARNING] root, 226: View param Numeric is not recognized. You may want to use \"Summary\", \"Plots\", \"Table\" or a specific plot type such as \"Scatter Plot\". I am showing you the Summary view for now.\n",
      "2016-04-15 14:57:45,842 [WARNING] root, 226: View param Numeric is not recognized. You may want to use \"Summary\", \"Plots\", \"Table\" or a specific plot type such as \"Scatter Plot\". I am showing you the Summary view for now.\n",
      "2016-04-15 14:57:45,851 [WARNING] root, 226: View param Numeric is not recognized. You may want to use \"Summary\", \"Plots\", \"Table\" or a specific plot type such as \"Scatter Plot\". I am showing you the Summary view for now.\n",
      "2016-04-15 14:57:46,019 [WARNING] root, 226: View param Numeric is not recognized. You may want to use \"Summary\", \"Plots\", \"Table\" or a specific plot type such as \"Scatter Plot\". I am showing you the Summary view for now.\n"
     ]
    },
    {
     "data": {
      "application/javascript": [
       "$(\"head\").append($(\"<link/>\").attr({\n",
       "  rel:  \"stylesheet\",\n",
       "  type: \"text/css\",\n",
       "  href: \"//cdnjs.cloudflare.com/ajax/libs/font-awesome/4.1.0/css/font-awesome.min.css\"\n",
       "}));\n",
       "$(\"head\").append($(\"<link/>\").attr({\n",
       "  rel:  \"stylesheet\",\n",
       "  type: \"text/css\",\n",
       "  href: \"//dato.com/files/canvas/1.8.5/css/canvas.css\"\n",
       "}));\n",
       "\n",
       "            (function(){\n",
       "\n",
       "                var e = null;\n",
       "                if (typeof element == 'undefined') {\n",
       "                    var scripts = document.getElementsByTagName('script');\n",
       "                    var thisScriptTag = scripts[scripts.length-1];\n",
       "                    var parentDiv = thisScriptTag.parentNode;\n",
       "                    e = document.createElement('div');\n",
       "                    parentDiv.appendChild(e);\n",
       "                } else {\n",
       "                    e = element[0];\n",
       "                }\n",
       "\n",
       "                if (typeof requirejs !== 'undefined') {\n",
       "                    // disable load timeout; ipython_app.js is large and can take a while to load.\n",
       "                    requirejs.config({waitSeconds: 0});\n",
       "                }\n",
       "\n",
       "                require(['//dato.com/files/canvas/1.8.5/js/ipython_app.js'], function(IPythonApp){\n",
       "                    var app = new IPythonApp();\n",
       "                    app.attachView('sframe','Summary', {\"ipython\": true, \"sketch\": {\"Solar.R\": {\"std\": 89.74947304262034, \"complete\": true, \"min\": 7.0, \"max\": 334.0, \"quantile\": [7.0, 8.0, 13.0, 19.0, 20.0, 24.0, 25.0, 31.0, 36.0, 44.0, 47.0, 49.0, 51.0, 59.0, 65.0, 66.0, 77.0, 78.0, 82.0, 83.0, 92.0, 92.0, 98.0, 99.0, 112.0, 115.0, 118.0, 127.0, 127.0, 135.0, 137.0, 138.0, 139.0, 145.0, 148.0, 150.0, 153.0, 167.0, 175.0, 175.0, 183.0, 186.0, 188.0, 189.0, 190.0, 191.0, 192.0, 193.0, 197.0, 201.0, 207.0, 212.0, 213.0, 220.0, 220.0, 222.0, 223.0, 223.0, 224.0, 229.0, 230.0, 236.0, 237.0, 237.0, 238.0, 238.0, 242.0, 244.0, 250.0, 250.0, 252.0, 253.0, 255.0, 255.0, 258.0, 259.0, 259.0, 259.0, 260.0, 264.0, 266.0, 269.0, 272.0, 273.0, 274.0, 275.0, 276.0, 284.0, 285.0, 286.0, 290.0, 291.0, 294.0, 295.0, 307.0, 313.0, 320.0, 322.0, 323.0, 332.0, 334.0], \"median\": 207.0, \"numeric\": true, \"num_unique\": 117, \"num_undefined\": 7, \"var\": 8054.967911428035, \"progress\": 1.0, \"size\": 153, \"frequent_items\": {\"7\": {\"frequency\": 1, \"value\": 7}, \"8\": {\"frequency\": 1, \"value\": 8}, \"13\": {\"frequency\": 1, \"value\": 13}, \"14\": {\"frequency\": 1, \"value\": 14}, \"19\": {\"frequency\": 1, \"value\": 19}, \"20\": {\"frequency\": 1, \"value\": 20}, \"24\": {\"frequency\": 2, \"value\": 24}, \"25\": {\"frequency\": 1, \"value\": 25}, \"27\": {\"frequency\": 1, \"value\": 27}, \"31\": {\"frequency\": 1, \"value\": 31}, \"36\": {\"frequency\": 1, \"value\": 36}, \"37\": {\"frequency\": 1, \"value\": 37}, \"44\": {\"frequency\": 1, \"value\": 44}, \"47\": {\"frequency\": 1, \"value\": 47}, \"48\": {\"frequency\": 1, \"value\": 48}, \"49\": {\"frequency\": 1, \"value\": 49}, \"51\": {\"frequency\": 1, \"value\": 51}, \"59\": {\"frequency\": 1, \"value\": 59}, \"64\": {\"frequency\": 1, \"value\": 64}, \"65\": {\"frequency\": 1, \"value\": 65}, \"66\": {\"frequency\": 1, \"value\": 66}, \"71\": {\"frequency\": 1, \"value\": 71}, \"77\": {\"frequency\": 1, \"value\": 77}, \"78\": {\"frequency\": 1, \"value\": 78}, \"81\": {\"frequency\": 1, \"value\": 81}, \"82\": {\"frequency\": 1, \"value\": 82}, \"83\": {\"frequency\": 1, \"value\": 83}, \"91\": {\"frequency\": 1, \"value\": 91}, \"92\": {\"frequency\": 2, \"value\": 92}, \"95\": {\"frequency\": 1, \"value\": 95}, \"98\": {\"frequency\": 1, \"value\": 98}, \"99\": {\"frequency\": 1, \"value\": 99}, \"101\": {\"frequency\": 1, \"value\": 101}, \"112\": {\"frequency\": 1, \"value\": 112}, \"115\": {\"frequency\": 1, \"value\": 115}, \"118\": {\"frequency\": 1, \"value\": 118}, \"120\": {\"frequency\": 1, \"value\": 120}, \"127\": {\"frequency\": 2, \"value\": 127}, \"131\": {\"frequency\": 1, \"value\": 131}, \"135\": {\"frequency\": 1, \"value\": 135}, \"137\": {\"frequency\": 2, \"value\": 137}, \"138\": {\"frequency\": 1, \"value\": 138}, \"139\": {\"frequency\": 2, \"value\": 139}, \"145\": {\"frequency\": 1, \"value\": 145}, \"148\": {\"frequency\": 1, \"value\": 148}, \"149\": {\"frequency\": 1, \"value\": 149}, \"150\": {\"frequency\": 1, \"value\": 150}, \"153\": {\"frequency\": 1, \"value\": 153}, \"157\": {\"frequency\": 1, \"value\": 157}, \"167\": {\"frequency\": 1, \"value\": 167}, \"175\": {\"frequency\": 3, \"value\": 175}, \"183\": {\"frequency\": 1, \"value\": 183}, \"186\": {\"frequency\": 1, \"value\": 186}, \"187\": {\"frequency\": 1, \"value\": 187}, \"188\": {\"frequency\": 1, \"value\": 188}, \"189\": {\"frequency\": 1, \"value\": 189}, \"190\": {\"frequency\": 2, \"value\": 190}, \"191\": {\"frequency\": 2, \"value\": 191}, \"192\": {\"frequency\": 1, \"value\": 192}, \"193\": {\"frequency\": 1, \"value\": 193}, \"194\": {\"frequency\": 1, \"value\": 194}, \"197\": {\"frequency\": 1, \"value\": 197}, \"201\": {\"frequency\": 1, \"value\": 201}, \"203\": {\"frequency\": 1, \"value\": 203}, \"207\": {\"frequency\": 1, \"value\": 207}, \"212\": {\"frequency\": 1, \"value\": 212}, \"213\": {\"frequency\": 1, \"value\": 213}, \"215\": {\"frequency\": 1, \"value\": 215}, \"220\": {\"frequency\": 3, \"value\": 220}, \"222\": {\"frequency\": 1, \"value\": 222}, \"223\": {\"frequency\": 3, \"value\": 223}, \"224\": {\"frequency\": 1, \"value\": 224}, \"225\": {\"frequency\": 1, \"value\": 225}, \"229\": {\"frequency\": 1, \"value\": 229}, \"230\": {\"frequency\": 1, \"value\": 230}, \"236\": {\"frequency\": 2, \"value\": 236}, \"237\": {\"frequency\": 2, \"value\": 237}, \"238\": {\"frequency\": 4, \"value\": 238}, \"242\": {\"frequency\": 1, \"value\": 242}, \"244\": {\"frequency\": 1, \"value\": 244}, \"248\": {\"frequency\": 1, \"value\": 248}, \"250\": {\"frequency\": 2, \"value\": 250}, \"252\": {\"frequency\": 2, \"value\": 252}, \"253\": {\"frequency\": 1, \"value\": 253}, \"254\": {\"frequency\": 1, \"value\": 254}, \"255\": {\"frequency\": 2, \"value\": 255}, \"256\": {\"frequency\": 1, \"value\": 256}, \"258\": {\"frequency\": 1, \"value\": 258}, \"259\": {\"frequency\": 4, \"value\": 259}, \"260\": {\"frequency\": 1, \"value\": 260}, \"264\": {\"frequency\": 2, \"value\": 264}, \"266\": {\"frequency\": 1, \"value\": 266}, \"267\": {\"frequency\": 1, \"value\": 267}, \"269\": {\"frequency\": 1, \"value\": 269}, \"272\": {\"frequency\": 1, \"value\": 272}, \"273\": {\"frequency\": 2, \"value\": 273}, \"274\": {\"frequency\": 2, \"value\": 274}, \"275\": {\"frequency\": 1, \"value\": 275}, \"276\": {\"frequency\": 1, \"value\": 276}, \"279\": {\"frequency\": 1, \"value\": 279}, \"284\": {\"frequency\": 1, \"value\": 284}, \"285\": {\"frequency\": 1, \"value\": 285}, \"286\": {\"frequency\": 1, \"value\": 286}, \"287\": {\"frequency\": 1, \"value\": 287}, \"290\": {\"frequency\": 1, \"value\": 290}, \"291\": {\"frequency\": 2, \"value\": 291}, \"294\": {\"frequency\": 1, \"value\": 294}, \"295\": {\"frequency\": 1, \"value\": 295}, \"299\": {\"frequency\": 1, \"value\": 299}, \"307\": {\"frequency\": 1, \"value\": 307}, \"313\": {\"frequency\": 1, \"value\": 313}, \"314\": {\"frequency\": 1, \"value\": 314}, \"320\": {\"frequency\": 1, \"value\": 320}, \"322\": {\"frequency\": 2, \"value\": 322}, \"323\": {\"frequency\": 1, \"value\": 323}, \"332\": {\"frequency\": 1, \"value\": 332}, \"334\": {\"frequency\": 1, \"value\": 334}}, \"mean\": 185.9315068493151}, \"Solar.R per Temp\": {\"std\": 1.1881872375126394, \"complete\": true, \"min\": 0.0945945945945946, \"max\": 5.21875, \"quantile\": [0.0945945945945946, 0.13559322033898305, 0.19402985074626866, 0.2962962962962963, 0.3114754098360656, 0.3380281690140845, 0.35526315789473684, 0.4098360655737705, 0.5, 0.6, 0.6438356164383562, 0.7096774193548387, 0.7101449275362319, 0.7763157894736842, 0.922077922077922, 0.9390243902439024, 0.9878048780487805, 1.0246913580246915, 1.0952380952380953, 1.1206896551724137, 1.1973684210526316, 1.2023809523809523, 1.368421052631579, 1.5081967213114753, 1.548780487804878, 1.5774647887323943, 1.5930232558139534, 1.6388888888888888, 1.643835616438356, 1.6779661016949152, 1.6951219512195121, 1.7236842105263157, 1.7386363636363635, 1.8026315789473684, 1.8048780487804879, 1.8831168831168832, 1.948051948051948, 1.9662921348314606, 1.967741935483871, 2.0, 2.032258064516129, 2.0927835051546393, 2.141304347826087, 2.1494252873563218, 2.2142857142857144, 2.2325581395348837, 2.393617021276596, 2.4130434782608696, 2.4358974358974357, 2.451219512195122, 2.4805194805194803, 2.5, 2.5444444444444443, 2.588235294117647, 2.588235294117647, 2.6835443037974684, 2.717391304347826, 2.78494623655914, 2.8115942028985508, 2.8227848101265822, 2.8358208955223883, 2.902173913043478, 2.9135802469135803, 2.9135802469135803, 2.9382716049382718, 2.9565217391304346, 3.0481927710843375, 3.066666666666667, 3.111111111111111, 3.128205128205128, 3.1363636363636362, 3.1379310344827585, 3.185185185185185, 3.197674418604651, 3.2023809523809526, 3.2098765432098766, 3.2333333333333334, 3.289473684210526, 3.3292682926829267, 3.3417721518987342, 3.343283582089552, 3.392857142857143, 3.4, 3.4186046511627906, 3.5, 3.597560975609756, 3.611940298507463, 3.6666666666666665, 3.6710526315789473, 3.710144927536232, 3.71875, 3.783132530120482, 3.9444444444444446, 4.029411764705882, 4.15, 4.383561643835616, 4.586206896551724, 4.6, 4.735294117647059, 5.048387096774194, 5.21875], \"median\": 2.4805194805194803, \"numeric\": true, \"num_unique\": 144, \"num_undefined\": 7, \"var\": 1.4117889113879176, \"progress\": 1.0, \"size\": 153, \"frequent_items\": {\"5.21875\": {\"frequency\": 1, \"value\": 5.21875}, \"0.5\": {\"frequency\": 1, \"value\": 0.5}, \"2.0\": {\"frequency\": 1, \"value\": 2.0}, \"1.967741935483871\": {\"frequency\": 1, \"value\": 1.967741935483871}, \"2.108433734939759\": {\"frequency\": 1, \"value\": 2.108433734939759}, \"2.032258064516129\": {\"frequency\": 1, \"value\": 2.032258064516129}, \"1.6626506024096386\": {\"frequency\": 1, \"value\": 1.6626506024096386}, \"1.948051948051948\": {\"frequency\": 1, \"value\": 1.948051948051948}, \"3.341463414634146\": {\"frequency\": 1, \"value\": 3.341463414634146}, \"2.8205128205128207\": {\"frequency\": 1, \"value\": 2.8205128205128207}, \"3.7126436781609193\": {\"frequency\": 1, \"value\": 3.7126436781609193}, \"3.71875\": {\"frequency\": 1, \"value\": 3.71875}, \"3.066666666666667\": {\"frequency\": 1, \"value\": 3.066666666666667}, \"3.3417721518987342\": {\"frequency\": 1, \"value\": 3.3417721518987342}, \"2.9382716049382718\": {\"frequency\": 1, \"value\": 2.9382716049382718}, \"3.090909090909091\": {\"frequency\": 1, \"value\": 3.090909090909091}, \"0.9534883720930233\": {\"frequency\": 1, \"value\": 0.9534883720930233}, \"3.597560975609756\": {\"frequency\": 1, \"value\": 3.597560975609756}, \"0.4098360655737705\": {\"frequency\": 1, \"value\": 0.4098360655737705}, \"1.513157894736842\": {\"frequency\": 1, \"value\": 1.513157894736842}, \"1.6388888888888888\": {\"frequency\": 1, \"value\": 1.6388888888888888}, \"0.3114754098360656\": {\"frequency\": 1, \"value\": 0.3114754098360656}, \"0.922077922077922\": {\"frequency\": 1, \"value\": 0.922077922077922}, \"1.643835616438356\": {\"frequency\": 1, \"value\": 1.643835616438356}, \"3.289473684210526\": {\"frequency\": 1, \"value\": 3.289473684210526}, \"0.31746031746031744\": {\"frequency\": 1, \"value\": 0.31746031746031744}, \"0.810126582278481\": {\"frequency\": 1, \"value\": 0.810126582278481}, \"2.5\": {\"frequency\": 1, \"value\": 2.5}, \"3.1379310344827585\": {\"frequency\": 1, \"value\": 3.1379310344827585}, \"3.5\": {\"frequency\": 1, \"value\": 3.5}, \"3.547945205479452\": {\"frequency\": 1, \"value\": 3.547945205479452}, \"2.4805194805194803\": {\"frequency\": 1, \"value\": 2.4805194805194803}, \"4.15\": {\"frequency\": 1, \"value\": 4.15}, \"1.225\": {\"frequency\": 1, \"value\": 1.225}, \"2.8115942028985508\": {\"frequency\": 1, \"value\": 2.8115942028985508}, \"3.1358024691358026\": {\"frequency\": 1, \"value\": 3.1358024691358026}, \"4.029411764705882\": {\"frequency\": 1, \"value\": 4.029411764705882}, \"4.586206896551724\": {\"frequency\": 1, \"value\": 4.586206896551724}, \"1.1578947368421053\": {\"frequency\": 1, \"value\": 1.1578947368421053}, \"2.865168539325843\": {\"frequency\": 1, \"value\": 2.865168539325843}, \"2.546666666666667\": {\"frequency\": 1, \"value\": 2.546666666666667}, \"0.6438356164383562\": {\"frequency\": 1, \"value\": 0.6438356164383562}, \"2.717391304347826\": {\"frequency\": 1, \"value\": 2.717391304347826}, \"2.9135802469135803\": {\"frequency\": 2, \"value\": 2.9135802469135803}, \"1.8831168831168832\": {\"frequency\": 1, \"value\": 1.8831168831168832}, \"4.075949367088608\": {\"frequency\": 1, \"value\": 4.075949367088608}, \"0.5692307692307692\": {\"frequency\": 1, \"value\": 0.5692307692307692}, \"2.141304347826087\": {\"frequency\": 1, \"value\": 2.141304347826087}, \"2.393617021276596\": {\"frequency\": 1, \"value\": 2.393617021276596}, \"3.3636363636363638\": {\"frequency\": 1, \"value\": 3.3636363636363638}, \"0.35526315789473684\": {\"frequency\": 1, \"value\": 0.35526315789473684}, \"2.5444444444444443\": {\"frequency\": 1, \"value\": 2.5444444444444443}, \"1.6951219512195121\": {\"frequency\": 1, \"value\": 1.6951219512195121}, \"3.4\": {\"frequency\": 1, \"value\": 3.4}, \"1.7160493827160495\": {\"frequency\": 1, \"value\": 1.7160493827160495}, \"0.6\": {\"frequency\": 1, \"value\": 0.6}, \"2.8227848101265822\": {\"frequency\": 1, \"value\": 2.8227848101265822}, \"2.588235294117647\": {\"frequency\": 2, \"value\": 2.588235294117647}, \"0.7763157894736842\": {\"frequency\": 1, \"value\": 0.7763157894736842}, \"0.19718309859154928\": {\"frequency\": 1, \"value\": 0.19718309859154928}, \"3.111111111111111\": {\"frequency\": 1, \"value\": 3.111111111111111}, \"3.6164383561643834\": {\"frequency\": 1, \"value\": 3.6164383561643834}, \"3.2794117647058822\": {\"frequency\": 1, \"value\": 3.2794117647058822}, \"2.4130434782608696\": {\"frequency\": 1, \"value\": 2.4130434782608696}, \"0.2962962962962963\": {\"frequency\": 1, \"value\": 0.2962962962962963}, \"1.9662921348314606\": {\"frequency\": 1, \"value\": 1.9662921348314606}, \"3.8783783783783785\": {\"frequency\": 1, \"value\": 3.8783783783783785}, \"3.2098765432098766\": {\"frequency\": 1, \"value\": 3.2098765432098766}, \"1.8026315789473684\": {\"frequency\": 1, \"value\": 1.8026315789473684}, \"1.0246913580246915\": {\"frequency\": 1, \"value\": 1.0246913580246915}, \"2.4204545454545454\": {\"frequency\": 1, \"value\": 2.4204545454545454}, \"1.1206896551724137\": {\"frequency\": 1, \"value\": 1.1206896551724137}, \"2.0927835051546393\": {\"frequency\": 1, \"value\": 2.0927835051546393}, \"1.0919540229885059\": {\"frequency\": 1, \"value\": 1.0919540229885059}, \"3.392857142857143\": {\"frequency\": 1, \"value\": 3.392857142857143}, \"4.651515151515151\": {\"frequency\": 1, \"value\": 4.651515151515151}, \"1.548780487804878\": {\"frequency\": 1, \"value\": 1.548780487804878}, \"1.1973684210526316\": {\"frequency\": 1, \"value\": 1.1973684210526316}, \"2.4358974358974357\": {\"frequency\": 1, \"value\": 2.4358974358974357}, \"1.8\": {\"frequency\": 1, \"value\": 1.8}, \"1.835164835164835\": {\"frequency\": 1, \"value\": 1.835164835164835}, \"1.8048780487804879\": {\"frequency\": 1, \"value\": 1.8048780487804879}, \"1.5774647887323943\": {\"frequency\": 1, \"value\": 1.5774647887323943}, \"1.2023809523809523\": {\"frequency\": 1, \"value\": 1.2023809523809523}, \"2.1494252873563218\": {\"frequency\": 1, \"value\": 2.1494252873563218}, \"3.4078947368421053\": {\"frequency\": 1, \"value\": 3.4078947368421053}, \"3.1363636363636362\": {\"frequency\": 1, \"value\": 3.1363636363636362}, \"3.197802197802198\": {\"frequency\": 1, \"value\": 3.197802197802198}, \"1.6282051282051282\": {\"frequency\": 1, \"value\": 1.6282051282051282}, \"3.197674418604651\": {\"frequency\": 1, \"value\": 3.197674418604651}, \"3.6666666666666665\": {\"frequency\": 1, \"value\": 3.6666666666666665}, \"2.9176470588235293\": {\"frequency\": 1, \"value\": 2.9176470588235293}, \"3.6710526315789473\": {\"frequency\": 1, \"value\": 3.6710526315789473}, \"4.393939393939394\": {\"frequency\": 1, \"value\": 4.393939393939394}, \"0.7101449275362319\": {\"frequency\": 1, \"value\": 0.7101449275362319}, \"0.19402985074626866\": {\"frequency\": 1, \"value\": 0.19402985074626866}, \"1.7386363636363635\": {\"frequency\": 1, \"value\": 1.7386363636363635}, \"2.8358208955223883\": {\"frequency\": 1, \"value\": 2.8358208955223883}, \"3.2333333333333334\": {\"frequency\": 1, \"value\": 3.2333333333333334}, \"1.7236842105263157\": {\"frequency\": 1, \"value\": 1.7236842105263157}, \"2.9565217391304346\": {\"frequency\": 1, \"value\": 2.9565217391304346}, \"3.185185185185185\": {\"frequency\": 1, \"value\": 3.185185185185185}, \"0.13559322033898305\": {\"frequency\": 1, \"value\": 0.13559322033898305}, \"0.9390243902439024\": {\"frequency\": 1, \"value\": 0.9390243902439024}, \"3.15\": {\"frequency\": 1, \"value\": 3.15}, \"1.0952380952380953\": {\"frequency\": 1, \"value\": 1.0952380952380953}, \"4.383561643835616\": {\"frequency\": 1, \"value\": 4.383561643835616}, \"1.5081967213114753\": {\"frequency\": 1, \"value\": 1.5081967213114753}, \"5.048387096774194\": {\"frequency\": 1, \"value\": 5.048387096774194}, \"3.9444444444444446\": {\"frequency\": 1, \"value\": 3.9444444444444446}, \"3.0481927710843375\": {\"frequency\": 1, \"value\": 3.0481927710843375}, \"2.78494623655914\": {\"frequency\": 1, \"value\": 2.78494623655914}, \"3.4186046511627906\": {\"frequency\": 1, \"value\": 3.4186046511627906}, \"0.4025974025974026\": {\"frequency\": 1, \"value\": 0.4025974025974026}, \"1.9625\": {\"frequency\": 1, \"value\": 1.9625}, \"2.3\": {\"frequency\": 1, \"value\": 2.3}, \"4.6\": {\"frequency\": 1, \"value\": 4.6}, \"0.3380281690140845\": {\"frequency\": 1, \"value\": 0.3380281690140845}, \"3.2023809523809526\": {\"frequency\": 1, \"value\": 3.2023809523809526}, \"3.128205128205128\": {\"frequency\": 1, \"value\": 3.128205128205128}, \"2.757142857142857\": {\"frequency\": 1, \"value\": 2.757142857142857}, \"0.7096774193548387\": {\"frequency\": 1, \"value\": 0.7096774193548387}, \"3.0384615384615383\": {\"frequency\": 1, \"value\": 3.0384615384615383}, \"0.6455696202531646\": {\"frequency\": 1, \"value\": 0.6455696202531646}, \"2.2142857142857144\": {\"frequency\": 1, \"value\": 2.2142857142857144}, \"3.783132530120482\": {\"frequency\": 1, \"value\": 3.783132530120482}, \"4.735294117647059\": {\"frequency\": 1, \"value\": 4.735294117647059}, \"2.2325581395348837\": {\"frequency\": 1, \"value\": 2.2325581395348837}, \"0.0945945945945946\": {\"frequency\": 1, \"value\": 0.0945945945945946}, \"2.6835443037974684\": {\"frequency\": 1, \"value\": 2.6835443037974684}, \"1.5930232558139534\": {\"frequency\": 1, \"value\": 1.5930232558139534}, \"3.611940298507463\": {\"frequency\": 1, \"value\": 3.611940298507463}, \"2.902173913043478\": {\"frequency\": 1, \"value\": 2.902173913043478}, \"3.343283582089552\": {\"frequency\": 1, \"value\": 3.343283582089552}, \"3.710144927536232\": {\"frequency\": 1, \"value\": 3.710144927536232}, \"2.46875\": {\"frequency\": 1, \"value\": 2.46875}, \"2.0135135135135136\": {\"frequency\": 1, \"value\": 2.0135135135135136}, \"1.368421052631579\": {\"frequency\": 1, \"value\": 1.368421052631579}, \"2.451219512195122\": {\"frequency\": 1, \"value\": 2.451219512195122}, \"1.6779661016949152\": {\"frequency\": 1, \"value\": 1.6779661016949152}, \"2.623529411764706\": {\"frequency\": 1, \"value\": 2.623529411764706}, \"3.3292682926829267\": {\"frequency\": 1, \"value\": 3.3292682926829267}, \"2.1604938271604937\": {\"frequency\": 1, \"value\": 2.1604938271604937}, \"0.9878048780487805\": {\"frequency\": 1, \"value\": 0.9878048780487805}}, \"mean\": 2.374584628823123}, \"Temp\": {\"std\": 9.434286778166502, \"complete\": true, \"min\": 56.0, \"max\": 97.0, \"quantile\": [56.0, 57.0, 57.0, 58.0, 59.0, 59.0, 61.0, 61.0, 62.0, 63.0, 64.0, 65.0, 66.0, 66.0, 67.0, 67.0, 67.0, 68.0, 68.0, 69.0, 69.0, 70.0, 71.0, 71.0, 72.0, 72.0, 73.0, 73.0, 73.0, 74.0, 74.0, 74.0, 75.0, 75.0, 76.0, 76.0, 76.0, 76.0, 76.0, 76.0, 77.0, 77.0, 77.0, 77.0, 77.0, 78.0, 78.0, 78.0, 78.0, 79.0, 79.0, 79.0, 79.0, 80.0, 80.0, 80.0, 81.0, 81.0, 81.0, 81.0, 81.0, 81.0, 81.0, 82.0, 82.0, 82.0, 82.0, 82.0, 82.0, 83.0, 83.0, 83.0, 84.0, 84.0, 84.0, 85.0, 85.0, 85.0, 86.0, 86.0, 86.0, 86.0, 86.0, 87.0, 87.0, 87.0, 88.0, 88.0, 89.0, 90.0, 90.0, 91.0, 91.0, 92.0, 92.0, 92.0, 93.0, 93.0, 94.0, 96.0, 97.0], \"median\": 79.0, \"numeric\": true, \"num_unique\": 40, \"num_undefined\": 0, \"var\": 89.00576701268727, \"progress\": 1.0, \"size\": 153, \"frequent_items\": {\"56\": {\"frequency\": 1, \"value\": 56}, \"57\": {\"frequency\": 3, \"value\": 57}, \"58\": {\"frequency\": 2, \"value\": 58}, \"59\": {\"frequency\": 2, \"value\": 59}, \"61\": {\"frequency\": 3, \"value\": 61}, \"62\": {\"frequency\": 2, \"value\": 62}, \"63\": {\"frequency\": 1, \"value\": 63}, \"64\": {\"frequency\": 2, \"value\": 64}, \"65\": {\"frequency\": 2, \"value\": 65}, \"66\": {\"frequency\": 3, \"value\": 66}, \"67\": {\"frequency\": 4, \"value\": 67}, \"68\": {\"frequency\": 4, \"value\": 68}, \"69\": {\"frequency\": 3, \"value\": 69}, \"70\": {\"frequency\": 1, \"value\": 70}, \"71\": {\"frequency\": 3, \"value\": 71}, \"72\": {\"frequency\": 3, \"value\": 72}, \"73\": {\"frequency\": 5, \"value\": 73}, \"74\": {\"frequency\": 4, \"value\": 74}, \"75\": {\"frequency\": 4, \"value\": 75}, \"76\": {\"frequency\": 9, \"value\": 76}, \"77\": {\"frequency\": 7, \"value\": 77}, \"78\": {\"frequency\": 6, \"value\": 78}, \"79\": {\"frequency\": 6, \"value\": 79}, \"80\": {\"frequency\": 5, \"value\": 80}, \"81\": {\"frequency\": 11, \"value\": 81}, \"82\": {\"frequency\": 9, \"value\": 82}, \"83\": {\"frequency\": 4, \"value\": 83}, \"84\": {\"frequency\": 5, \"value\": 84}, \"85\": {\"frequency\": 5, \"value\": 85}, \"86\": {\"frequency\": 7, \"value\": 86}, \"87\": {\"frequency\": 5, \"value\": 87}, \"88\": {\"frequency\": 3, \"value\": 88}, \"89\": {\"frequency\": 2, \"value\": 89}, \"90\": {\"frequency\": 3, \"value\": 90}, \"91\": {\"frequency\": 2, \"value\": 91}, \"92\": {\"frequency\": 5, \"value\": 92}, \"93\": {\"frequency\": 3, \"value\": 93}, \"94\": {\"frequency\": 2, \"value\": 94}, \"96\": {\"frequency\": 1, \"value\": 96}, \"97\": {\"frequency\": 1, \"value\": 97}}, \"mean\": 77.88235294117645}}, \"selected_variable\": {\"name\": [\"<SFrame>\"], \"descriptives\": {\"rows\": 153, \"columns\": 3}, \"view_component\": \"Summary\", \"view_file\": \"sframe\", \"view_params\": {\"y\": null, \"x\": null, \"columns\": [\"Solar.R\", \"Temp\", \"Solar.R per Temp\"], \"view\": \"Numeric\"}, \"view_components\": [\"Summary\", \"Table\", \"Bar Chart\", \"BoxWhisker Plot\", \"Line Chart\", \"Scatter Plot\", \"Heat Map\", \"Plots\"], \"type\": \"SFrame\", \"columns\": [{\"dtype\": \"int\", \"name\": \"Solar.R\"}, {\"dtype\": \"int\", \"name\": \"Temp\"}, {\"dtype\": \"float\", \"name\": \"Solar.R per Temp\"}], \"column_identifiers\": [\"Solar.R\", \"Solar.R per Temp\", \"Temp\"]}, \"columns\": [{\"dtype\": \"int\", \"name\": \"Solar.R\"}, {\"dtype\": \"int\", \"name\": \"Temp\"}, {\"dtype\": \"float\", \"name\": \"Solar.R per Temp\"}]}, e);\n",
       "                });\n",
       "            })();\n",
       "        "
      ]
     },
     "metadata": {},
     "output_type": "display_data"
    }
   ],
   "source": [
    "file['Solar.R', 'Temp', 'Solar.R per Temp' ].show(view = 'Numeric')"
   ]
  },
  {
   "cell_type": "code",
   "execution_count": 31,
   "metadata": {
    "collapsed": false
   },
   "outputs": [
    {
     "data": {
      "text/plain": [
       "dtype: int\n",
       "Rows: 153\n",
       "[191L, 119L, 150L, 314L, None, None, 300L, 100L, 20L, 195L, None, 257L, 291L, 275L, 66L, 335L, 308L, 79L, 323L, 45L, 9L, 321L, 26L, 93L, 67L, 267L, None, 14L, 253L, 224L, 280L, 287L, 288L, 243L, 187L, 221L, 265L, 128L, 274L, 292L, 324L, 260L, 251L, 149L, 333L, 323L, 192L, 285L, 38L, 121L, 138L, 151L, 60L, 92L, 251L, 136L, 128L, 48L, 99L, 32L, 139L, 270L, 249L, 237L, 102L, 176L, 315L, 277L, 268L, 273L, 176L, 140L, 265L, 176L, 292L, 49L, 261L, 275L, 286L, 188L, 221L, 8L, 259L, 296L, 295L, 224L, 82L, 83L, 214L, 276L, 254L, 255L, 84L, 25L, 78L, None, None, None, 256L, 230L, ... ]"
      ]
     },
     "execution_count": 31,
     "metadata": {},
     "output_type": "execute_result"
    }
   ],
   "source": [
    "file['Solar.R'] + 1"
   ]
  },
  {
   "cell_type": "code",
   "execution_count": 33,
   "metadata": {
    "collapsed": false
   },
   "outputs": [],
   "source": [
    "file['Solar.R'] = file['Solar.R'] + 1"
   ]
  },
  {
   "cell_type": "code",
   "execution_count": 34,
   "metadata": {
    "collapsed": false
   },
   "outputs": [
    {
     "data": {
      "text/html": [
       "<div style=\"max-height:1000px;max-width:1500px;overflow:auto;\"><table frame=\"box\" rules=\"cols\">\n",
       "    <tr>\n",
       "        <th style=\"padding-left: 1em; padding-right: 1em; text-align: center\">Ozone</th>\n",
       "        <th style=\"padding-left: 1em; padding-right: 1em; text-align: center\">Solar.R</th>\n",
       "        <th style=\"padding-left: 1em; padding-right: 1em; text-align: center\">Wind</th>\n",
       "        <th style=\"padding-left: 1em; padding-right: 1em; text-align: center\">Temp</th>\n",
       "        <th style=\"padding-left: 1em; padding-right: 1em; text-align: center\">Month</th>\n",
       "        <th style=\"padding-left: 1em; padding-right: 1em; text-align: center\">Day</th>\n",
       "        <th style=\"padding-left: 1em; padding-right: 1em; text-align: center\">Solar.R per Temp</th>\n",
       "    </tr>\n",
       "    <tr>\n",
       "        <td style=\"padding-left: 1em; padding-right: 1em; text-align: center; vertical-align: top\">41</td>\n",
       "        <td style=\"padding-left: 1em; padding-right: 1em; text-align: center; vertical-align: top\">191</td>\n",
       "        <td style=\"padding-left: 1em; padding-right: 1em; text-align: center; vertical-align: top\">7.4</td>\n",
       "        <td style=\"padding-left: 1em; padding-right: 1em; text-align: center; vertical-align: top\">67</td>\n",
       "        <td style=\"padding-left: 1em; padding-right: 1em; text-align: center; vertical-align: top\">5</td>\n",
       "        <td style=\"padding-left: 1em; padding-right: 1em; text-align: center; vertical-align: top\">1</td>\n",
       "        <td style=\"padding-left: 1em; padding-right: 1em; text-align: center; vertical-align: top\">2.83582089552</td>\n",
       "    </tr>\n",
       "    <tr>\n",
       "        <td style=\"padding-left: 1em; padding-right: 1em; text-align: center; vertical-align: top\">36</td>\n",
       "        <td style=\"padding-left: 1em; padding-right: 1em; text-align: center; vertical-align: top\">119</td>\n",
       "        <td style=\"padding-left: 1em; padding-right: 1em; text-align: center; vertical-align: top\">8.0</td>\n",
       "        <td style=\"padding-left: 1em; padding-right: 1em; text-align: center; vertical-align: top\">72</td>\n",
       "        <td style=\"padding-left: 1em; padding-right: 1em; text-align: center; vertical-align: top\">5</td>\n",
       "        <td style=\"padding-left: 1em; padding-right: 1em; text-align: center; vertical-align: top\">2</td>\n",
       "        <td style=\"padding-left: 1em; padding-right: 1em; text-align: center; vertical-align: top\">1.63888888889</td>\n",
       "    </tr>\n",
       "    <tr>\n",
       "        <td style=\"padding-left: 1em; padding-right: 1em; text-align: center; vertical-align: top\">12</td>\n",
       "        <td style=\"padding-left: 1em; padding-right: 1em; text-align: center; vertical-align: top\">150</td>\n",
       "        <td style=\"padding-left: 1em; padding-right: 1em; text-align: center; vertical-align: top\">12.6</td>\n",
       "        <td style=\"padding-left: 1em; padding-right: 1em; text-align: center; vertical-align: top\">74</td>\n",
       "        <td style=\"padding-left: 1em; padding-right: 1em; text-align: center; vertical-align: top\">5</td>\n",
       "        <td style=\"padding-left: 1em; padding-right: 1em; text-align: center; vertical-align: top\">3</td>\n",
       "        <td style=\"padding-left: 1em; padding-right: 1em; text-align: center; vertical-align: top\">2.01351351351</td>\n",
       "    </tr>\n",
       "    <tr>\n",
       "        <td style=\"padding-left: 1em; padding-right: 1em; text-align: center; vertical-align: top\">18</td>\n",
       "        <td style=\"padding-left: 1em; padding-right: 1em; text-align: center; vertical-align: top\">314</td>\n",
       "        <td style=\"padding-left: 1em; padding-right: 1em; text-align: center; vertical-align: top\">11.5</td>\n",
       "        <td style=\"padding-left: 1em; padding-right: 1em; text-align: center; vertical-align: top\">62</td>\n",
       "        <td style=\"padding-left: 1em; padding-right: 1em; text-align: center; vertical-align: top\">5</td>\n",
       "        <td style=\"padding-left: 1em; padding-right: 1em; text-align: center; vertical-align: top\">4</td>\n",
       "        <td style=\"padding-left: 1em; padding-right: 1em; text-align: center; vertical-align: top\">5.04838709677</td>\n",
       "    </tr>\n",
       "    <tr>\n",
       "        <td style=\"padding-left: 1em; padding-right: 1em; text-align: center; vertical-align: top\">None</td>\n",
       "        <td style=\"padding-left: 1em; padding-right: 1em; text-align: center; vertical-align: top\">None</td>\n",
       "        <td style=\"padding-left: 1em; padding-right: 1em; text-align: center; vertical-align: top\">14.3</td>\n",
       "        <td style=\"padding-left: 1em; padding-right: 1em; text-align: center; vertical-align: top\">56</td>\n",
       "        <td style=\"padding-left: 1em; padding-right: 1em; text-align: center; vertical-align: top\">5</td>\n",
       "        <td style=\"padding-left: 1em; padding-right: 1em; text-align: center; vertical-align: top\">5</td>\n",
       "        <td style=\"padding-left: 1em; padding-right: 1em; text-align: center; vertical-align: top\">None</td>\n",
       "    </tr>\n",
       "    <tr>\n",
       "        <td style=\"padding-left: 1em; padding-right: 1em; text-align: center; vertical-align: top\">28</td>\n",
       "        <td style=\"padding-left: 1em; padding-right: 1em; text-align: center; vertical-align: top\">None</td>\n",
       "        <td style=\"padding-left: 1em; padding-right: 1em; text-align: center; vertical-align: top\">14.9</td>\n",
       "        <td style=\"padding-left: 1em; padding-right: 1em; text-align: center; vertical-align: top\">66</td>\n",
       "        <td style=\"padding-left: 1em; padding-right: 1em; text-align: center; vertical-align: top\">5</td>\n",
       "        <td style=\"padding-left: 1em; padding-right: 1em; text-align: center; vertical-align: top\">6</td>\n",
       "        <td style=\"padding-left: 1em; padding-right: 1em; text-align: center; vertical-align: top\">None</td>\n",
       "    </tr>\n",
       "    <tr>\n",
       "        <td style=\"padding-left: 1em; padding-right: 1em; text-align: center; vertical-align: top\">23</td>\n",
       "        <td style=\"padding-left: 1em; padding-right: 1em; text-align: center; vertical-align: top\">300</td>\n",
       "        <td style=\"padding-left: 1em; padding-right: 1em; text-align: center; vertical-align: top\">8.6</td>\n",
       "        <td style=\"padding-left: 1em; padding-right: 1em; text-align: center; vertical-align: top\">65</td>\n",
       "        <td style=\"padding-left: 1em; padding-right: 1em; text-align: center; vertical-align: top\">5</td>\n",
       "        <td style=\"padding-left: 1em; padding-right: 1em; text-align: center; vertical-align: top\">7</td>\n",
       "        <td style=\"padding-left: 1em; padding-right: 1em; text-align: center; vertical-align: top\">4.6</td>\n",
       "    </tr>\n",
       "    <tr>\n",
       "        <td style=\"padding-left: 1em; padding-right: 1em; text-align: center; vertical-align: top\">19</td>\n",
       "        <td style=\"padding-left: 1em; padding-right: 1em; text-align: center; vertical-align: top\">100</td>\n",
       "        <td style=\"padding-left: 1em; padding-right: 1em; text-align: center; vertical-align: top\">13.8</td>\n",
       "        <td style=\"padding-left: 1em; padding-right: 1em; text-align: center; vertical-align: top\">59</td>\n",
       "        <td style=\"padding-left: 1em; padding-right: 1em; text-align: center; vertical-align: top\">5</td>\n",
       "        <td style=\"padding-left: 1em; padding-right: 1em; text-align: center; vertical-align: top\">8</td>\n",
       "        <td style=\"padding-left: 1em; padding-right: 1em; text-align: center; vertical-align: top\">1.67796610169</td>\n",
       "    </tr>\n",
       "    <tr>\n",
       "        <td style=\"padding-left: 1em; padding-right: 1em; text-align: center; vertical-align: top\">8</td>\n",
       "        <td style=\"padding-left: 1em; padding-right: 1em; text-align: center; vertical-align: top\">20</td>\n",
       "        <td style=\"padding-left: 1em; padding-right: 1em; text-align: center; vertical-align: top\">20.1</td>\n",
       "        <td style=\"padding-left: 1em; padding-right: 1em; text-align: center; vertical-align: top\">61</td>\n",
       "        <td style=\"padding-left: 1em; padding-right: 1em; text-align: center; vertical-align: top\">5</td>\n",
       "        <td style=\"padding-left: 1em; padding-right: 1em; text-align: center; vertical-align: top\">9</td>\n",
       "        <td style=\"padding-left: 1em; padding-right: 1em; text-align: center; vertical-align: top\">0.311475409836</td>\n",
       "    </tr>\n",
       "    <tr>\n",
       "        <td style=\"padding-left: 1em; padding-right: 1em; text-align: center; vertical-align: top\">None</td>\n",
       "        <td style=\"padding-left: 1em; padding-right: 1em; text-align: center; vertical-align: top\">195</td>\n",
       "        <td style=\"padding-left: 1em; padding-right: 1em; text-align: center; vertical-align: top\">8.6</td>\n",
       "        <td style=\"padding-left: 1em; padding-right: 1em; text-align: center; vertical-align: top\">69</td>\n",
       "        <td style=\"padding-left: 1em; padding-right: 1em; text-align: center; vertical-align: top\">5</td>\n",
       "        <td style=\"padding-left: 1em; padding-right: 1em; text-align: center; vertical-align: top\">10</td>\n",
       "        <td style=\"padding-left: 1em; padding-right: 1em; text-align: center; vertical-align: top\">2.8115942029</td>\n",
       "    </tr>\n",
       "</table>\n",
       "[153 rows x 7 columns]<br/>Note: Only the head of the SFrame is printed.<br/>You can use print_rows(num_rows=m, num_columns=n) to print more rows and columns.\n",
       "</div>"
      ],
      "text/plain": [
       "Columns:\n",
       "\tOzone\tint\n",
       "\tSolar.R\tint\n",
       "\tWind\tfloat\n",
       "\tTemp\tint\n",
       "\tMonth\tint\n",
       "\tDay\tint\n",
       "\tSolar.R per Temp\tfloat\n",
       "\n",
       "Rows: 153\n",
       "\n",
       "Data:\n",
       "+-------+---------+------+------+-------+-----+------------------+\n",
       "| Ozone | Solar.R | Wind | Temp | Month | Day | Solar.R per Temp |\n",
       "+-------+---------+------+------+-------+-----+------------------+\n",
       "|   41  |   191   | 7.4  |  67  |   5   |  1  |  2.83582089552   |\n",
       "|   36  |   119   | 8.0  |  72  |   5   |  2  |  1.63888888889   |\n",
       "|   12  |   150   | 12.6 |  74  |   5   |  3  |  2.01351351351   |\n",
       "|   18  |   314   | 11.5 |  62  |   5   |  4  |  5.04838709677   |\n",
       "|  None |   None  | 14.3 |  56  |   5   |  5  |       None       |\n",
       "|   28  |   None  | 14.9 |  66  |   5   |  6  |       None       |\n",
       "|   23  |   300   | 8.6  |  65  |   5   |  7  |       4.6        |\n",
       "|   19  |   100   | 13.8 |  59  |   5   |  8  |  1.67796610169   |\n",
       "|   8   |    20   | 20.1 |  61  |   5   |  9  |  0.311475409836  |\n",
       "|  None |   195   | 8.6  |  69  |   5   |  10 |   2.8115942029   |\n",
       "+-------+---------+------+------+-------+-----+------------------+\n",
       "[153 rows x 7 columns]\n",
       "Note: Only the head of the SFrame is printed.\n",
       "You can use print_rows(num_rows=m, num_columns=n) to print more rows and columns."
      ]
     },
     "execution_count": 34,
     "metadata": {},
     "output_type": "execute_result"
    }
   ],
   "source": [
    "file"
   ]
  },
  {
   "cell_type": "code",
   "execution_count": null,
   "metadata": {
    "collapsed": true
   },
   "outputs": [],
   "source": []
  }
 ],
 "metadata": {
  "kernelspec": {
   "display_name": "Python 2",
   "language": "python",
   "name": "python2"
  },
  "language_info": {
   "codemirror_mode": {
    "name": "ipython",
    "version": 2
   },
   "file_extension": ".py",
   "mimetype": "text/x-python",
   "name": "python",
   "nbconvert_exporter": "python",
   "pygments_lexer": "ipython2",
   "version": "2.7.11"
  }
 },
 "nbformat": 4,
 "nbformat_minor": 0
}
